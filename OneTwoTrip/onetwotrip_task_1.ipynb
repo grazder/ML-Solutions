{
  "nbformat": 4,
  "nbformat_minor": 0,
  "metadata": {
    "kernelspec": {
      "name": "python3",
      "display_name": "Python 3"
    },
    "language_info": {
      "codemirror_mode": {
        "name": "ipython",
        "version": 3
      },
      "file_extension": ".py",
      "mimetype": "text/x-python",
      "name": "python",
      "nbconvert_exporter": "python",
      "pygments_lexer": "ipython3",
      "version": "3.6.7"
    },
    "colab": {
      "name": "onetwotrip_task_1.ipynb",
      "provenance": [],
      "collapsed_sections": [
        "09rr4ZzFUnwf",
        "NBaLJ_6CGPBJ",
        "Thwklvre1Psm"
      ],
      "toc_visible": true
    },
    "accelerator": "GPU",
    "widgets": {
      "application/vnd.jupyter.widget-state+json": {
        "eda1c4295c814e04bdf7b5ab75a5c4ad": {
          "model_module": "@jupyter-widgets/controls",
          "model_name": "HBoxModel",
          "state": {
            "_view_name": "HBoxView",
            "_dom_classes": [],
            "_model_name": "HBoxModel",
            "_view_module": "@jupyter-widgets/controls",
            "_model_module_version": "1.5.0",
            "_view_count": null,
            "_view_module_version": "1.5.0",
            "box_style": "",
            "layout": "IPY_MODEL_a4829b707b0b4767a4de8b9f4be5b3bc",
            "_model_module": "@jupyter-widgets/controls",
            "children": [
              "IPY_MODEL_50fcc716212441dfac410099ffeb9cc9",
              "IPY_MODEL_b884aa11fab1417e9366add4e96d68aa"
            ]
          }
        },
        "a4829b707b0b4767a4de8b9f4be5b3bc": {
          "model_module": "@jupyter-widgets/base",
          "model_name": "LayoutModel",
          "state": {
            "_view_name": "LayoutView",
            "grid_template_rows": null,
            "right": null,
            "justify_content": null,
            "_view_module": "@jupyter-widgets/base",
            "overflow": null,
            "_model_module_version": "1.2.0",
            "_view_count": null,
            "flex_flow": null,
            "width": null,
            "min_width": null,
            "border": null,
            "align_items": null,
            "bottom": null,
            "_model_module": "@jupyter-widgets/base",
            "top": null,
            "grid_column": null,
            "overflow_y": null,
            "overflow_x": null,
            "grid_auto_flow": null,
            "grid_area": null,
            "grid_template_columns": null,
            "flex": null,
            "_model_name": "LayoutModel",
            "justify_items": null,
            "grid_row": null,
            "max_height": null,
            "align_content": null,
            "visibility": null,
            "align_self": null,
            "height": null,
            "min_height": null,
            "padding": null,
            "grid_auto_rows": null,
            "grid_gap": null,
            "max_width": null,
            "order": null,
            "_view_module_version": "1.2.0",
            "grid_template_areas": null,
            "object_position": null,
            "object_fit": null,
            "grid_auto_columns": null,
            "margin": null,
            "display": null,
            "left": null
          }
        },
        "50fcc716212441dfac410099ffeb9cc9": {
          "model_module": "@jupyter-widgets/controls",
          "model_name": "IntProgressModel",
          "state": {
            "_view_name": "ProgressView",
            "style": "IPY_MODEL_24bf85db098a4d52a8c14b9ac554d905",
            "_dom_classes": [],
            "description": "",
            "_model_name": "IntProgressModel",
            "bar_style": "success",
            "max": 61,
            "_view_module": "@jupyter-widgets/controls",
            "_model_module_version": "1.5.0",
            "value": 61,
            "_view_count": null,
            "_view_module_version": "1.5.0",
            "orientation": "horizontal",
            "min": 0,
            "description_tooltip": null,
            "_model_module": "@jupyter-widgets/controls",
            "layout": "IPY_MODEL_772142cfe7b846938d44dcc0c2f41fa0"
          }
        },
        "b884aa11fab1417e9366add4e96d68aa": {
          "model_module": "@jupyter-widgets/controls",
          "model_name": "HTMLModel",
          "state": {
            "_view_name": "HTMLView",
            "style": "IPY_MODEL_e799699512ce441f83961bc53a0c69b7",
            "_dom_classes": [],
            "description": "",
            "_model_name": "HTMLModel",
            "placeholder": "​",
            "_view_module": "@jupyter-widgets/controls",
            "_model_module_version": "1.5.0",
            "value": "100% 61/61 [00:02&lt;00:00, 23.35it/s]",
            "_view_count": null,
            "_view_module_version": "1.5.0",
            "description_tooltip": null,
            "_model_module": "@jupyter-widgets/controls",
            "layout": "IPY_MODEL_b1ad420e1aa543d396bb34354a979533"
          }
        },
        "24bf85db098a4d52a8c14b9ac554d905": {
          "model_module": "@jupyter-widgets/controls",
          "model_name": "ProgressStyleModel",
          "state": {
            "_view_name": "StyleView",
            "_model_name": "ProgressStyleModel",
            "description_width": "",
            "_view_module": "@jupyter-widgets/base",
            "_model_module_version": "1.5.0",
            "_view_count": null,
            "_view_module_version": "1.2.0",
            "bar_color": null,
            "_model_module": "@jupyter-widgets/controls"
          }
        },
        "772142cfe7b846938d44dcc0c2f41fa0": {
          "model_module": "@jupyter-widgets/base",
          "model_name": "LayoutModel",
          "state": {
            "_view_name": "LayoutView",
            "grid_template_rows": null,
            "right": null,
            "justify_content": null,
            "_view_module": "@jupyter-widgets/base",
            "overflow": null,
            "_model_module_version": "1.2.0",
            "_view_count": null,
            "flex_flow": null,
            "width": null,
            "min_width": null,
            "border": null,
            "align_items": null,
            "bottom": null,
            "_model_module": "@jupyter-widgets/base",
            "top": null,
            "grid_column": null,
            "overflow_y": null,
            "overflow_x": null,
            "grid_auto_flow": null,
            "grid_area": null,
            "grid_template_columns": null,
            "flex": null,
            "_model_name": "LayoutModel",
            "justify_items": null,
            "grid_row": null,
            "max_height": null,
            "align_content": null,
            "visibility": null,
            "align_self": null,
            "height": null,
            "min_height": null,
            "padding": null,
            "grid_auto_rows": null,
            "grid_gap": null,
            "max_width": null,
            "order": null,
            "_view_module_version": "1.2.0",
            "grid_template_areas": null,
            "object_position": null,
            "object_fit": null,
            "grid_auto_columns": null,
            "margin": null,
            "display": null,
            "left": null
          }
        },
        "e799699512ce441f83961bc53a0c69b7": {
          "model_module": "@jupyter-widgets/controls",
          "model_name": "DescriptionStyleModel",
          "state": {
            "_view_name": "StyleView",
            "_model_name": "DescriptionStyleModel",
            "description_width": "",
            "_view_module": "@jupyter-widgets/base",
            "_model_module_version": "1.5.0",
            "_view_count": null,
            "_view_module_version": "1.2.0",
            "_model_module": "@jupyter-widgets/controls"
          }
        },
        "b1ad420e1aa543d396bb34354a979533": {
          "model_module": "@jupyter-widgets/base",
          "model_name": "LayoutModel",
          "state": {
            "_view_name": "LayoutView",
            "grid_template_rows": null,
            "right": null,
            "justify_content": null,
            "_view_module": "@jupyter-widgets/base",
            "overflow": null,
            "_model_module_version": "1.2.0",
            "_view_count": null,
            "flex_flow": null,
            "width": null,
            "min_width": null,
            "border": null,
            "align_items": null,
            "bottom": null,
            "_model_module": "@jupyter-widgets/base",
            "top": null,
            "grid_column": null,
            "overflow_y": null,
            "overflow_x": null,
            "grid_auto_flow": null,
            "grid_area": null,
            "grid_template_columns": null,
            "flex": null,
            "_model_name": "LayoutModel",
            "justify_items": null,
            "grid_row": null,
            "max_height": null,
            "align_content": null,
            "visibility": null,
            "align_self": null,
            "height": null,
            "min_height": null,
            "padding": null,
            "grid_auto_rows": null,
            "grid_gap": null,
            "max_width": null,
            "order": null,
            "_view_module_version": "1.2.0",
            "grid_template_areas": null,
            "object_position": null,
            "object_fit": null,
            "grid_auto_columns": null,
            "margin": null,
            "display": null,
            "left": null
          }
        }
      }
    }
  },
  "cells": [
    {
      "cell_type": "code",
      "metadata": {
        "id": "cimUp-BeuiKm",
        "colab_type": "code",
        "colab": {
          "base_uri": "https://localhost:8080/",
          "height": 122
        },
        "outputId": "6e15ded2-f422-4939-fee9-bc63d2c2859b"
      },
      "source": [
        "from google.colab import drive\n",
        "drive.mount('/content/drive')"
      ],
      "execution_count": null,
      "outputs": [
        {
          "output_type": "stream",
          "text": [
            "Go to this URL in a browser: https://accounts.google.com/o/oauth2/auth?client_id=947318989803-6bn6qk8qdgf4n4g3pfee6491hc0brc4i.apps.googleusercontent.com&redirect_uri=urn%3aietf%3awg%3aoauth%3a2.0%3aoob&response_type=code&scope=email%20https%3a%2f%2fwww.googleapis.com%2fauth%2fdocs.test%20https%3a%2f%2fwww.googleapis.com%2fauth%2fdrive%20https%3a%2f%2fwww.googleapis.com%2fauth%2fdrive.photos.readonly%20https%3a%2f%2fwww.googleapis.com%2fauth%2fpeopleapi.readonly\n",
            "\n",
            "Enter your authorization code:\n",
            "··········\n",
            "Mounted at /content/drive\n"
          ],
          "name": "stdout"
        }
      ]
    },
    {
      "cell_type": "code",
      "metadata": {
        "id": "NzCjvtVVuHV1",
        "colab_type": "code",
        "colab": {
          "base_uri": "https://localhost:8080/",
          "height": 367
        },
        "outputId": "5bb0c7d9-0401-4ac5-b94b-2773611bba66"
      },
      "source": [
        "import numpy as np\n",
        "import pandas as pd\n",
        "import lightgbm as lgb\n",
        "from lightgbm import LGBMClassifier\n",
        "from sklearn.model_selection import KFold, train_test_split\n",
        "from sklearn.preprocessing import LabelEncoder\n",
        "from sklearn.metrics import roc_auc_score\n",
        "from tqdm import tqdm_notebook\n",
        "from time import time\n",
        "import matplotlib.pyplot as plt\n",
        "import seaborn as sns\n",
        "import datetime\n",
        "from bayes_opt import BayesianOptimization\n",
        "\n",
        "import warnings\n",
        "warnings.simplefilter('ignore')"
      ],
      "execution_count": null,
      "outputs": [
        {
          "output_type": "error",
          "ename": "ModuleNotFoundError",
          "evalue": "ignored",
          "traceback": [
            "\u001b[0;31m---------------------------------------------------------------------------\u001b[0m",
            "\u001b[0;31mModuleNotFoundError\u001b[0m                       Traceback (most recent call last)",
            "\u001b[0;32m<ipython-input-2-82182be1d7c8>\u001b[0m in \u001b[0;36m<module>\u001b[0;34m()\u001b[0m\n\u001b[1;32m     11\u001b[0m \u001b[0;32mimport\u001b[0m \u001b[0mseaborn\u001b[0m \u001b[0;32mas\u001b[0m \u001b[0msns\u001b[0m\u001b[0;34m\u001b[0m\u001b[0;34m\u001b[0m\u001b[0m\n\u001b[1;32m     12\u001b[0m \u001b[0;32mimport\u001b[0m \u001b[0mdatetime\u001b[0m\u001b[0;34m\u001b[0m\u001b[0;34m\u001b[0m\u001b[0m\n\u001b[0;32m---> 13\u001b[0;31m \u001b[0;32mfrom\u001b[0m \u001b[0mbayes_opt\u001b[0m \u001b[0;32mimport\u001b[0m \u001b[0mBayesianOptimization\u001b[0m\u001b[0;34m\u001b[0m\u001b[0;34m\u001b[0m\u001b[0m\n\u001b[0m\u001b[1;32m     14\u001b[0m \u001b[0;34m\u001b[0m\u001b[0m\n\u001b[1;32m     15\u001b[0m \u001b[0;32mimport\u001b[0m \u001b[0mwarnings\u001b[0m\u001b[0;34m\u001b[0m\u001b[0;34m\u001b[0m\u001b[0m\n",
            "\u001b[0;31mModuleNotFoundError\u001b[0m: No module named 'bayes_opt'",
            "",
            "\u001b[0;31m---------------------------------------------------------------------------\u001b[0;32m\nNOTE: If your import is failing due to a missing package, you can\nmanually install dependencies using either !pip or !apt.\n\nTo view examples of installing some common dependencies, click the\n\"Open Examples\" button below.\n\u001b[0;31m---------------------------------------------------------------------------\u001b[0m\n"
          ]
        }
      ]
    },
    {
      "cell_type": "code",
      "metadata": {
        "id": "6cOIZ4L_7oyV",
        "colab_type": "code",
        "colab": {}
      },
      "source": [
        "def uid_aggregation(train_df, test_df, main_columns, uids, aggregations):\n",
        "    for main_column in main_columns:  \n",
        "        for col in uids:\n",
        "            for agg_type in aggregations:\n",
        "                new_col_name = col+'_'+main_column+'_'+agg_type\n",
        "                temp_df = pd.concat([train_df[[col, main_column]], test_df[[col,main_column]]])\n",
        "                temp_df = temp_df.groupby([col])[main_column].agg([agg_type]).reset_index().rename(\n",
        "                                                        columns={agg_type: new_col_name})\n",
        "\n",
        "                temp_df.index = list(temp_df[col])\n",
        "                temp_df = temp_df[new_col_name].to_dict()   \n",
        "\n",
        "                train_df[new_col_name] = train_df[col].map(temp_df)\n",
        "                test_df[new_col_name]  = test_df[col].map(temp_df)\n",
        "    return train_df, test_df\n",
        "\n",
        "def values_normalization(dt_df, periods, columns):\n",
        "    for period in periods:\n",
        "        for col in columns:\n",
        "            new_col = col +'_'+ period\n",
        "            dt_df[col] = dt_df[col].astype(float)  \n",
        "\n",
        "            temp_min = dt_df.groupby([period])[col].agg(['min']).reset_index()\n",
        "            temp_min.index = temp_min[period].values\n",
        "            temp_min = temp_min['min'].to_dict()\n",
        "\n",
        "            temp_max = dt_df.groupby([period])[col].agg(['max']).reset_index()\n",
        "            temp_max.index = temp_max[period].values\n",
        "            temp_max = temp_max['max'].to_dict()\n",
        "\n",
        "            temp_mean = dt_df.groupby([period])[col].agg(['mean']).reset_index()\n",
        "            temp_mean.index = temp_mean[period].values\n",
        "            temp_mean = temp_mean['mean'].to_dict()\n",
        "\n",
        "            temp_std = dt_df.groupby([period])[col].agg(['std']).reset_index()\n",
        "            temp_std.index = temp_std[period].values\n",
        "            temp_std = temp_std['std'].to_dict()\n",
        "\n",
        "            dt_df['temp_min'] = dt_df[period].map(temp_min)\n",
        "            dt_df['temp_max'] = dt_df[period].map(temp_max)\n",
        "            dt_df['temp_mean'] = dt_df[period].map(temp_mean)\n",
        "            dt_df['temp_std'] = dt_df[period].map(temp_std)\n",
        "\n",
        "            dt_df[new_col+'_min_max'] = (dt_df[col]-dt_df['temp_min'])/(dt_df['temp_max']-dt_df['temp_min'])\n",
        "            dt_df[new_col+'_std_score'] = (dt_df[col]-dt_df['temp_mean'])/(dt_df['temp_std'])\n",
        "            del dt_df['temp_min'],dt_df['temp_max'],dt_df['temp_mean'],dt_df['temp_std']\n",
        "    return dt_df"
      ],
      "execution_count": null,
      "outputs": []
    },
    {
      "cell_type": "code",
      "metadata": {
        "id": "6wuV86ryuszg",
        "colab_type": "code",
        "colab": {}
      },
      "source": [
        "train_df = pd.read_csv('/content/drive/My Drive/onetwotrip/onetwotrip_challenge_train.csv', index_col='orderid').drop(['goal21', 'goal22', 'goal23', 'goal24', 'goal25'], axis=1)\n",
        "test_df = pd.read_csv('/content/drive/My Drive/onetwotrip/onetwotrip_challenge_test.csv', index_col='orderid')\n",
        "sample_submission = pd.read_csv('/content/drive/My Drive/onetwotrip/onetwotrip_challenge_sub1.csv')"
      ],
      "execution_count": null,
      "outputs": []
    },
    {
      "cell_type": "code",
      "metadata": {
        "id": "_WwHZ_n8vAsn",
        "colab_type": "code",
        "colab": {
          "base_uri": "https://localhost:8080/",
          "height": 34
        },
        "outputId": "be628ea9-a10b-4235-dc9a-1ea4982d5792"
      },
      "source": [
        "train_df.shape, test_df.shape"
      ],
      "execution_count": null,
      "outputs": [
        {
          "output_type": "execute_result",
          "data": {
            "text/plain": [
              "((196056, 37), (455011, 36))"
            ]
          },
          "metadata": {
            "tags": []
          },
          "execution_count": 41
        }
      ]
    },
    {
      "cell_type": "code",
      "metadata": {
        "id": "HX-0BiQSnr9e",
        "colab_type": "code",
        "colab": {
          "base_uri": "https://localhost:8080/",
          "height": 221
        },
        "outputId": "4f5952c9-6cb5-44be-bd3f-45a26e838e91"
      },
      "source": [
        "train_df['field6'].value_counts(dropna=False)"
      ],
      "execution_count": null,
      "outputs": [
        {
          "output_type": "execute_result",
          "data": {
            "text/plain": [
              "0      152779\n",
              "1        6618\n",
              "3        5623\n",
              "2        5579\n",
              "4        4103\n",
              "        ...  \n",
              "323         1\n",
              "150         1\n",
              "101         1\n",
              "102         1\n",
              "126         1\n",
              "Name: field6, Length: 147, dtype: int64"
            ]
          },
          "metadata": {
            "tags": []
          },
          "execution_count": 42
        }
      ]
    },
    {
      "cell_type": "code",
      "metadata": {
        "id": "bADvyifYk0Gj",
        "colab_type": "code",
        "colab": {
          "base_uri": "https://localhost:8080/",
          "height": 410
        },
        "outputId": "7d0f9995-e0a9-4e24-e30a-da473dee632d"
      },
      "source": [
        "train_df.head(10)"
      ],
      "execution_count": null,
      "outputs": [
        {
          "output_type": "execute_result",
          "data": {
            "text/html": [
              "<div>\n",
              "<style scoped>\n",
              "    .dataframe tbody tr th:only-of-type {\n",
              "        vertical-align: middle;\n",
              "    }\n",
              "\n",
              "    .dataframe tbody tr th {\n",
              "        vertical-align: top;\n",
              "    }\n",
              "\n",
              "    .dataframe thead th {\n",
              "        text-align: right;\n",
              "    }\n",
              "</style>\n",
              "<table border=\"1\" class=\"dataframe\">\n",
              "  <thead>\n",
              "    <tr style=\"text-align: right;\">\n",
              "      <th></th>\n",
              "      <th>userid</th>\n",
              "      <th>field0</th>\n",
              "      <th>field1</th>\n",
              "      <th>field2</th>\n",
              "      <th>field3</th>\n",
              "      <th>field4</th>\n",
              "      <th>field5</th>\n",
              "      <th>field6</th>\n",
              "      <th>field7</th>\n",
              "      <th>field8</th>\n",
              "      <th>field9</th>\n",
              "      <th>field10</th>\n",
              "      <th>field11</th>\n",
              "      <th>field12</th>\n",
              "      <th>field13</th>\n",
              "      <th>field14</th>\n",
              "      <th>field15</th>\n",
              "      <th>field16</th>\n",
              "      <th>field17</th>\n",
              "      <th>field18</th>\n",
              "      <th>field19</th>\n",
              "      <th>field20</th>\n",
              "      <th>field21</th>\n",
              "      <th>field22</th>\n",
              "      <th>field23</th>\n",
              "      <th>field24</th>\n",
              "      <th>field25</th>\n",
              "      <th>field26</th>\n",
              "      <th>field27</th>\n",
              "      <th>field28</th>\n",
              "      <th>field29</th>\n",
              "      <th>indicator_goal21</th>\n",
              "      <th>indicator_goal22</th>\n",
              "      <th>indicator_goal23</th>\n",
              "      <th>indicator_goal24</th>\n",
              "      <th>indicator_goal25</th>\n",
              "      <th>goal1</th>\n",
              "    </tr>\n",
              "    <tr>\n",
              "      <th>orderid</th>\n",
              "      <th></th>\n",
              "      <th></th>\n",
              "      <th></th>\n",
              "      <th></th>\n",
              "      <th></th>\n",
              "      <th></th>\n",
              "      <th></th>\n",
              "      <th></th>\n",
              "      <th></th>\n",
              "      <th></th>\n",
              "      <th></th>\n",
              "      <th></th>\n",
              "      <th></th>\n",
              "      <th></th>\n",
              "      <th></th>\n",
              "      <th></th>\n",
              "      <th></th>\n",
              "      <th></th>\n",
              "      <th></th>\n",
              "      <th></th>\n",
              "      <th></th>\n",
              "      <th></th>\n",
              "      <th></th>\n",
              "      <th></th>\n",
              "      <th></th>\n",
              "      <th></th>\n",
              "      <th></th>\n",
              "      <th></th>\n",
              "      <th></th>\n",
              "      <th></th>\n",
              "      <th></th>\n",
              "      <th></th>\n",
              "      <th></th>\n",
              "      <th></th>\n",
              "      <th></th>\n",
              "      <th></th>\n",
              "      <th></th>\n",
              "    </tr>\n",
              "  </thead>\n",
              "  <tbody>\n",
              "    <tr>\n",
              "      <th>0</th>\n",
              "      <td>10d654494cbe97bbb25d51ead2600679aff9e097924add...</td>\n",
              "      <td>0</td>\n",
              "      <td>-0.626508</td>\n",
              "      <td>11</td>\n",
              "      <td>12</td>\n",
              "      <td>1</td>\n",
              "      <td>1</td>\n",
              "      <td>0</td>\n",
              "      <td>1</td>\n",
              "      <td>1</td>\n",
              "      <td>0</td>\n",
              "      <td>0</td>\n",
              "      <td>9</td>\n",
              "      <td>5</td>\n",
              "      <td>20</td>\n",
              "      <td>-0.661308</td>\n",
              "      <td>1</td>\n",
              "      <td>4</td>\n",
              "      <td>1</td>\n",
              "      <td>4</td>\n",
              "      <td>1</td>\n",
              "      <td>1</td>\n",
              "      <td>1</td>\n",
              "      <td>1</td>\n",
              "      <td>15</td>\n",
              "      <td>1</td>\n",
              "      <td>1</td>\n",
              "      <td>2</td>\n",
              "      <td>1</td>\n",
              "      <td>0</td>\n",
              "      <td>4</td>\n",
              "      <td>1</td>\n",
              "      <td>1</td>\n",
              "      <td>0</td>\n",
              "      <td>1</td>\n",
              "      <td>1</td>\n",
              "      <td>0</td>\n",
              "    </tr>\n",
              "    <tr>\n",
              "      <th>1</th>\n",
              "      <td>4aafc0391f72bbcf60537aece62923baf9ce644b64ac36...</td>\n",
              "      <td>144</td>\n",
              "      <td>-0.393794</td>\n",
              "      <td>5</td>\n",
              "      <td>7</td>\n",
              "      <td>2</td>\n",
              "      <td>0</td>\n",
              "      <td>0</td>\n",
              "      <td>2</td>\n",
              "      <td>1</td>\n",
              "      <td>0</td>\n",
              "      <td>0</td>\n",
              "      <td>21</td>\n",
              "      <td>125</td>\n",
              "      <td>3</td>\n",
              "      <td>-0.101043</td>\n",
              "      <td>1</td>\n",
              "      <td>57</td>\n",
              "      <td>1</td>\n",
              "      <td>5</td>\n",
              "      <td>1</td>\n",
              "      <td>6</td>\n",
              "      <td>2</td>\n",
              "      <td>121</td>\n",
              "      <td>15</td>\n",
              "      <td>1</td>\n",
              "      <td>41</td>\n",
              "      <td>3</td>\n",
              "      <td>1</td>\n",
              "      <td>0</td>\n",
              "      <td>2</td>\n",
              "      <td>1</td>\n",
              "      <td>1</td>\n",
              "      <td>0</td>\n",
              "      <td>1</td>\n",
              "      <td>0</td>\n",
              "      <td>0</td>\n",
              "    </tr>\n",
              "    <tr>\n",
              "      <th>2</th>\n",
              "      <td>bac8ffef46348f587c8d17137ab01fb24aef21547c647d...</td>\n",
              "      <td>134</td>\n",
              "      <td>-0.548937</td>\n",
              "      <td>2</td>\n",
              "      <td>3</td>\n",
              "      <td>2</td>\n",
              "      <td>0</td>\n",
              "      <td>0</td>\n",
              "      <td>1</td>\n",
              "      <td>1</td>\n",
              "      <td>0</td>\n",
              "      <td>1</td>\n",
              "      <td>7</td>\n",
              "      <td>4</td>\n",
              "      <td>3</td>\n",
              "      <td>-0.661308</td>\n",
              "      <td>1</td>\n",
              "      <td>4</td>\n",
              "      <td>1</td>\n",
              "      <td>2</td>\n",
              "      <td>3</td>\n",
              "      <td>6</td>\n",
              "      <td>2</td>\n",
              "      <td>17</td>\n",
              "      <td>14</td>\n",
              "      <td>1</td>\n",
              "      <td>1</td>\n",
              "      <td>11</td>\n",
              "      <td>7</td>\n",
              "      <td>0</td>\n",
              "      <td>1</td>\n",
              "      <td>1</td>\n",
              "      <td>1</td>\n",
              "      <td>0</td>\n",
              "      <td>1</td>\n",
              "      <td>1</td>\n",
              "      <td>0</td>\n",
              "    </tr>\n",
              "    <tr>\n",
              "      <th>3</th>\n",
              "      <td>0392247b4b87674aba2c32bf2292b105771a6a376871be...</td>\n",
              "      <td>0</td>\n",
              "      <td>-0.238651</td>\n",
              "      <td>10</td>\n",
              "      <td>11</td>\n",
              "      <td>1</td>\n",
              "      <td>1</td>\n",
              "      <td>3</td>\n",
              "      <td>2</td>\n",
              "      <td>1</td>\n",
              "      <td>0</td>\n",
              "      <td>0</td>\n",
              "      <td>19</td>\n",
              "      <td>12</td>\n",
              "      <td>3</td>\n",
              "      <td>-0.521242</td>\n",
              "      <td>2</td>\n",
              "      <td>22</td>\n",
              "      <td>1</td>\n",
              "      <td>3</td>\n",
              "      <td>3</td>\n",
              "      <td>4</td>\n",
              "      <td>1</td>\n",
              "      <td>46</td>\n",
              "      <td>12</td>\n",
              "      <td>2</td>\n",
              "      <td>18</td>\n",
              "      <td>1</td>\n",
              "      <td>1</td>\n",
              "      <td>0</td>\n",
              "      <td>4</td>\n",
              "      <td>1</td>\n",
              "      <td>1</td>\n",
              "      <td>0</td>\n",
              "      <td>1</td>\n",
              "      <td>1</td>\n",
              "      <td>0</td>\n",
              "    </tr>\n",
              "    <tr>\n",
              "      <th>4</th>\n",
              "      <td>d1aeefef311bbeb4bd84876c8d49421f276674527d5578...</td>\n",
              "      <td>0</td>\n",
              "      <td>-0.704079</td>\n",
              "      <td>8</td>\n",
              "      <td>11</td>\n",
              "      <td>1</td>\n",
              "      <td>1</td>\n",
              "      <td>0</td>\n",
              "      <td>1</td>\n",
              "      <td>1</td>\n",
              "      <td>0</td>\n",
              "      <td>1</td>\n",
              "      <td>16</td>\n",
              "      <td>4</td>\n",
              "      <td>3</td>\n",
              "      <td>-0.801375</td>\n",
              "      <td>1</td>\n",
              "      <td>100</td>\n",
              "      <td>1</td>\n",
              "      <td>6</td>\n",
              "      <td>1</td>\n",
              "      <td>1</td>\n",
              "      <td>1</td>\n",
              "      <td>17</td>\n",
              "      <td>22</td>\n",
              "      <td>1</td>\n",
              "      <td>1</td>\n",
              "      <td>1</td>\n",
              "      <td>1</td>\n",
              "      <td>0</td>\n",
              "      <td>3</td>\n",
              "      <td>1</td>\n",
              "      <td>1</td>\n",
              "      <td>0</td>\n",
              "      <td>0</td>\n",
              "      <td>1</td>\n",
              "      <td>0</td>\n",
              "    </tr>\n",
              "    <tr>\n",
              "      <th>5</th>\n",
              "      <td>bd2f85e3ed0cfa6ce641f632e4cfa35e170336ec5408cb...</td>\n",
              "      <td>0</td>\n",
              "      <td>-0.316223</td>\n",
              "      <td>9</td>\n",
              "      <td>9</td>\n",
              "      <td>1</td>\n",
              "      <td>1</td>\n",
              "      <td>0</td>\n",
              "      <td>1</td>\n",
              "      <td>1</td>\n",
              "      <td>0</td>\n",
              "      <td>0</td>\n",
              "      <td>10</td>\n",
              "      <td>5</td>\n",
              "      <td>62</td>\n",
              "      <td>-0.521242</td>\n",
              "      <td>2</td>\n",
              "      <td>0</td>\n",
              "      <td>1</td>\n",
              "      <td>6</td>\n",
              "      <td>5</td>\n",
              "      <td>6</td>\n",
              "      <td>1</td>\n",
              "      <td>1</td>\n",
              "      <td>17</td>\n",
              "      <td>1</td>\n",
              "      <td>1</td>\n",
              "      <td>1</td>\n",
              "      <td>1</td>\n",
              "      <td>1</td>\n",
              "      <td>3</td>\n",
              "      <td>1</td>\n",
              "      <td>1</td>\n",
              "      <td>0</td>\n",
              "      <td>0</td>\n",
              "      <td>0</td>\n",
              "      <td>0</td>\n",
              "    </tr>\n",
              "    <tr>\n",
              "      <th>6</th>\n",
              "      <td>6c6610f18ccd71f5ce664f9a840883d5d4b790d3adb88f...</td>\n",
              "      <td>0</td>\n",
              "      <td>0.071634</td>\n",
              "      <td>10</td>\n",
              "      <td>10</td>\n",
              "      <td>1</td>\n",
              "      <td>1</td>\n",
              "      <td>0</td>\n",
              "      <td>1</td>\n",
              "      <td>1</td>\n",
              "      <td>0</td>\n",
              "      <td>0</td>\n",
              "      <td>7</td>\n",
              "      <td>3</td>\n",
              "      <td>2</td>\n",
              "      <td>0.599289</td>\n",
              "      <td>1</td>\n",
              "      <td>6</td>\n",
              "      <td>1</td>\n",
              "      <td>4</td>\n",
              "      <td>2</td>\n",
              "      <td>3</td>\n",
              "      <td>1</td>\n",
              "      <td>22</td>\n",
              "      <td>5</td>\n",
              "      <td>1</td>\n",
              "      <td>1</td>\n",
              "      <td>1</td>\n",
              "      <td>1</td>\n",
              "      <td>0</td>\n",
              "      <td>4</td>\n",
              "      <td>1</td>\n",
              "      <td>1</td>\n",
              "      <td>1</td>\n",
              "      <td>1</td>\n",
              "      <td>1</td>\n",
              "      <td>0</td>\n",
              "    </tr>\n",
              "    <tr>\n",
              "      <th>7</th>\n",
              "      <td>daa23cdeee4840e522def77d76c05e4c9a1b64980d0aaa...</td>\n",
              "      <td>0</td>\n",
              "      <td>-0.238651</td>\n",
              "      <td>10</td>\n",
              "      <td>11</td>\n",
              "      <td>1</td>\n",
              "      <td>1</td>\n",
              "      <td>1</td>\n",
              "      <td>1</td>\n",
              "      <td>1</td>\n",
              "      <td>0</td>\n",
              "      <td>1</td>\n",
              "      <td>10</td>\n",
              "      <td>9</td>\n",
              "      <td>4</td>\n",
              "      <td>0.039024</td>\n",
              "      <td>1</td>\n",
              "      <td>22</td>\n",
              "      <td>1</td>\n",
              "      <td>5</td>\n",
              "      <td>2</td>\n",
              "      <td>6</td>\n",
              "      <td>1</td>\n",
              "      <td>44</td>\n",
              "      <td>21</td>\n",
              "      <td>1</td>\n",
              "      <td>1</td>\n",
              "      <td>7</td>\n",
              "      <td>5</td>\n",
              "      <td>0</td>\n",
              "      <td>4</td>\n",
              "      <td>1</td>\n",
              "      <td>1</td>\n",
              "      <td>1</td>\n",
              "      <td>1</td>\n",
              "      <td>0</td>\n",
              "      <td>0</td>\n",
              "    </tr>\n",
              "    <tr>\n",
              "      <th>8</th>\n",
              "      <td>c58f19409e035aafe7fd70b684ccd917402912c10b8a81...</td>\n",
              "      <td>0</td>\n",
              "      <td>-0.005937</td>\n",
              "      <td>8</td>\n",
              "      <td>8</td>\n",
              "      <td>1</td>\n",
              "      <td>1</td>\n",
              "      <td>0</td>\n",
              "      <td>1</td>\n",
              "      <td>1</td>\n",
              "      <td>0</td>\n",
              "      <td>1</td>\n",
              "      <td>14</td>\n",
              "      <td>9</td>\n",
              "      <td>3</td>\n",
              "      <td>-0.241109</td>\n",
              "      <td>2</td>\n",
              "      <td>1</td>\n",
              "      <td>1</td>\n",
              "      <td>1</td>\n",
              "      <td>1</td>\n",
              "      <td>2</td>\n",
              "      <td>1</td>\n",
              "      <td>21</td>\n",
              "      <td>9</td>\n",
              "      <td>2</td>\n",
              "      <td>1</td>\n",
              "      <td>1</td>\n",
              "      <td>1</td>\n",
              "      <td>0</td>\n",
              "      <td>3</td>\n",
              "      <td>1</td>\n",
              "      <td>1</td>\n",
              "      <td>1</td>\n",
              "      <td>0</td>\n",
              "      <td>1</td>\n",
              "      <td>0</td>\n",
              "    </tr>\n",
              "    <tr>\n",
              "      <th>9</th>\n",
              "      <td>0f5ac06456131b14993ca38465ea8f1c8867d55c53cb32...</td>\n",
              "      <td>156</td>\n",
              "      <td>1.623061</td>\n",
              "      <td>2</td>\n",
              "      <td>2</td>\n",
              "      <td>3</td>\n",
              "      <td>0</td>\n",
              "      <td>6</td>\n",
              "      <td>2</td>\n",
              "      <td>0</td>\n",
              "      <td>0</td>\n",
              "      <td>1</td>\n",
              "      <td>19</td>\n",
              "      <td>9</td>\n",
              "      <td>92</td>\n",
              "      <td>1.159555</td>\n",
              "      <td>2</td>\n",
              "      <td>2</td>\n",
              "      <td>1</td>\n",
              "      <td>5</td>\n",
              "      <td>2</td>\n",
              "      <td>7</td>\n",
              "      <td>2</td>\n",
              "      <td>46</td>\n",
              "      <td>12</td>\n",
              "      <td>2</td>\n",
              "      <td>18</td>\n",
              "      <td>12</td>\n",
              "      <td>3</td>\n",
              "      <td>0</td>\n",
              "      <td>1</td>\n",
              "      <td>1</td>\n",
              "      <td>1</td>\n",
              "      <td>0</td>\n",
              "      <td>0</td>\n",
              "      <td>0</td>\n",
              "      <td>0</td>\n",
              "    </tr>\n",
              "  </tbody>\n",
              "</table>\n",
              "</div>"
            ],
            "text/plain": [
              "                                                    userid  ...  goal1\n",
              "orderid                                                     ...       \n",
              "0        10d654494cbe97bbb25d51ead2600679aff9e097924add...  ...      0\n",
              "1        4aafc0391f72bbcf60537aece62923baf9ce644b64ac36...  ...      0\n",
              "2        bac8ffef46348f587c8d17137ab01fb24aef21547c647d...  ...      0\n",
              "3        0392247b4b87674aba2c32bf2292b105771a6a376871be...  ...      0\n",
              "4        d1aeefef311bbeb4bd84876c8d49421f276674527d5578...  ...      0\n",
              "5        bd2f85e3ed0cfa6ce641f632e4cfa35e170336ec5408cb...  ...      0\n",
              "6        6c6610f18ccd71f5ce664f9a840883d5d4b790d3adb88f...  ...      0\n",
              "7        daa23cdeee4840e522def77d76c05e4c9a1b64980d0aaa...  ...      0\n",
              "8        c58f19409e035aafe7fd70b684ccd917402912c10b8a81...  ...      0\n",
              "9        0f5ac06456131b14993ca38465ea8f1c8867d55c53cb32...  ...      0\n",
              "\n",
              "[10 rows x 37 columns]"
            ]
          },
          "metadata": {
            "tags": []
          },
          "execution_count": 43
        }
      ]
    },
    {
      "cell_type": "markdown",
      "metadata": {
        "id": "J4L2Uy6OwGQn",
        "colab_type": "text"
      },
      "source": [
        "# EDA"
      ]
    },
    {
      "cell_type": "markdown",
      "metadata": {
        "id": "pIrxf3vNaRY5",
        "colab_type": "text"
      },
      "source": [
        "юзер, 1, 2, 3, 14, 22 и 23 должны совпадать - совместные покупки"
      ]
    },
    {
      "cell_type": "code",
      "metadata": {
        "id": "9nB8_XQxph2o",
        "colab_type": "code",
        "colab": {
          "base_uri": "https://localhost:8080/",
          "height": 296
        },
        "outputId": "585b9654-b7b7-46d5-a804-f099dae4c24b"
      },
      "source": [
        "_, axes = plt.subplots(nrows=2, ncols=1, figsize=(22,4))\n",
        "sns.boxplot(data=train_df[train_df['goal1'] == 1], x='field1', ax=axes[0])\n",
        "sns.boxplot(data=train_df[train_df['goal1'] == 0], x='field1', ax=axes[1])"
      ],
      "execution_count": null,
      "outputs": [
        {
          "output_type": "execute_result",
          "data": {
            "text/plain": [
              "<matplotlib.axes._subplots.AxesSubplot at 0x7f6de358c2e8>"
            ]
          },
          "metadata": {
            "tags": []
          },
          "execution_count": 44
        },
        {
          "output_type": "display_data",
          "data": {
            "image/png": "[encoded data removed]",
            "text/plain": [
              "<Figure size 1584x288 with 2 Axes>"
            ]
          },
          "metadata": {
            "tags": []
          }
        }
      ]
    },
    {
      "cell_type": "code",
      "metadata": {
        "id": "L2AufB6EiF_g",
        "colab_type": "code",
        "colab": {
          "base_uri": "https://localhost:8080/",
          "height": 279
        },
        "outputId": "6dbff7bc-f5fd-4ed0-eb38-62c8fc45d50f"
      },
      "source": [
        "_, axes = plt.subplots(nrows=1, ncols=2, figsize=(22,4))\n",
        "sns.countplot(x='field3', data=train_df[train_df['goal1'] == 1], ax=axes[0], log=True);\n",
        "sns.countplot(x='field3', data=train_df[train_df['goal1'] == 0], ax=axes[1], log=True);"
      ],
      "execution_count": null,
      "outputs": [
        {
          "output_type": "display_data",
          "data": {
            "image/png": "[encoded data removed]",
            "text/plain": [
              "<Figure size 1584x288 with 2 Axes>"
            ]
          },
          "metadata": {
            "tags": []
          }
        }
      ]
    },
    {
      "cell_type": "code",
      "metadata": {
        "id": "HgQJ9HTwb6nc",
        "colab_type": "code",
        "colab": {
          "base_uri": "https://localhost:8080/",
          "height": 221
        },
        "outputId": "92e1f2d8-60f1-4f7d-c5db-256bca76210f"
      },
      "source": [
        "train_df['userid'].value_counts()"
      ],
      "execution_count": null,
      "outputs": [
        {
          "output_type": "execute_result",
          "data": {
            "text/plain": [
              "a4837464e50075c4f8b5820dab011496ba1f04a985ab2782f5cafe6dda94ed52    363\n",
              "98e3b9eba8259c0fe0599cc0490a39e8d946942abcd43fa28ba1d2872f2a462b    222\n",
              "a78176edc05b37528c4b559870f1c29c5cf1b0d7b2906db8e0a323d2b83e0bf4    185\n",
              "6f88521de0b6c0f34e8c6675387055bc4b62331e681b5676549cadd149073f67    177\n",
              "13a81409741819982c3bbc5452664081bfe7687c3c188ae4734d3c653985a1fa    149\n",
              "                                                                   ... \n",
              "7496aa96141a4b7ef60d44c9848d8c38dfdd2b56cf609eb7757bafa1134e78c6      1\n",
              "3dfbb95617b3f2ce9a7d19ba0baa49a264f6bdd43015b55c61ec4048d35c8057      1\n",
              "f2d50774f6a5e5c7b5e22bc45cedb8d3337af9e158cd33fa7fdaa6fe194fe05d      1\n",
              "6c7f0ffb1e4b56e76ebc00d27ccaa5ac0c8d1dcc52eb8d3f2b3ea02ead9ccbbb      1\n",
              "4aac6962a9857086139d0f1f6333a9c0617acfa15af7cfa7eabdf99672792022      1\n",
              "Name: userid, Length: 113902, dtype: int64"
            ]
          },
          "metadata": {
            "tags": []
          },
          "execution_count": 47
        }
      ]
    },
    {
      "cell_type": "code",
      "metadata": {
        "id": "dR_k3-xxbf3Z",
        "colab_type": "code",
        "colab": {
          "base_uri": "https://localhost:8080/",
          "height": 410
        },
        "outputId": "379c39b9-e824-40d4-db60-472fe5c81e27"
      },
      "source": [
        "train_df[(train_df['userid'] == 'a4837464e50075c4f8b5820dab011496ba1f04a985ab2782f5cafe6dda94ed52') & (train_df['goal1'] == 1)]"
      ],
      "execution_count": null,
      "outputs": [
        {
          "output_type": "execute_result",
          "data": {
            "text/html": [
              "<div>\n",
              "<style scoped>\n",
              "    .dataframe tbody tr th:only-of-type {\n",
              "        vertical-align: middle;\n",
              "    }\n",
              "\n",
              "    .dataframe tbody tr th {\n",
              "        vertical-align: top;\n",
              "    }\n",
              "\n",
              "    .dataframe thead th {\n",
              "        text-align: right;\n",
              "    }\n",
              "</style>\n",
              "<table border=\"1\" class=\"dataframe\">\n",
              "  <thead>\n",
              "    <tr style=\"text-align: right;\">\n",
              "      <th></th>\n",
              "      <th>userid</th>\n",
              "      <th>field0</th>\n",
              "      <th>field1</th>\n",
              "      <th>field2</th>\n",
              "      <th>field3</th>\n",
              "      <th>field4</th>\n",
              "      <th>field5</th>\n",
              "      <th>field6</th>\n",
              "      <th>field7</th>\n",
              "      <th>field8</th>\n",
              "      <th>field9</th>\n",
              "      <th>field10</th>\n",
              "      <th>field11</th>\n",
              "      <th>field12</th>\n",
              "      <th>field13</th>\n",
              "      <th>field14</th>\n",
              "      <th>field15</th>\n",
              "      <th>field16</th>\n",
              "      <th>field17</th>\n",
              "      <th>field18</th>\n",
              "      <th>field19</th>\n",
              "      <th>field20</th>\n",
              "      <th>field21</th>\n",
              "      <th>field22</th>\n",
              "      <th>field23</th>\n",
              "      <th>field24</th>\n",
              "      <th>field25</th>\n",
              "      <th>field26</th>\n",
              "      <th>field27</th>\n",
              "      <th>field28</th>\n",
              "      <th>field29</th>\n",
              "      <th>indicator_goal21</th>\n",
              "      <th>indicator_goal22</th>\n",
              "      <th>indicator_goal23</th>\n",
              "      <th>indicator_goal24</th>\n",
              "      <th>indicator_goal25</th>\n",
              "      <th>goal1</th>\n",
              "    </tr>\n",
              "    <tr>\n",
              "      <th>orderid</th>\n",
              "      <th></th>\n",
              "      <th></th>\n",
              "      <th></th>\n",
              "      <th></th>\n",
              "      <th></th>\n",
              "      <th></th>\n",
              "      <th></th>\n",
              "      <th></th>\n",
              "      <th></th>\n",
              "      <th></th>\n",
              "      <th></th>\n",
              "      <th></th>\n",
              "      <th></th>\n",
              "      <th></th>\n",
              "      <th></th>\n",
              "      <th></th>\n",
              "      <th></th>\n",
              "      <th></th>\n",
              "      <th></th>\n",
              "      <th></th>\n",
              "      <th></th>\n",
              "      <th></th>\n",
              "      <th></th>\n",
              "      <th></th>\n",
              "      <th></th>\n",
              "      <th></th>\n",
              "      <th></th>\n",
              "      <th></th>\n",
              "      <th></th>\n",
              "      <th></th>\n",
              "      <th></th>\n",
              "      <th></th>\n",
              "      <th></th>\n",
              "      <th></th>\n",
              "      <th></th>\n",
              "      <th></th>\n",
              "      <th></th>\n",
              "    </tr>\n",
              "  </thead>\n",
              "  <tbody>\n",
              "    <tr>\n",
              "      <th>63657</th>\n",
              "      <td>a4837464e50075c4f8b5820dab011496ba1f04a985ab27...</td>\n",
              "      <td>0</td>\n",
              "      <td>2.786632</td>\n",
              "      <td>8</td>\n",
              "      <td>11</td>\n",
              "      <td>71</td>\n",
              "      <td>0</td>\n",
              "      <td>2</td>\n",
              "      <td>2</td>\n",
              "      <td>1</td>\n",
              "      <td>0</td>\n",
              "      <td>1</td>\n",
              "      <td>15</td>\n",
              "      <td>37</td>\n",
              "      <td>201</td>\n",
              "      <td>5.501613</td>\n",
              "      <td>1</td>\n",
              "      <td>93</td>\n",
              "      <td>2</td>\n",
              "      <td>2</td>\n",
              "      <td>3</td>\n",
              "      <td>4</td>\n",
              "      <td>1</td>\n",
              "      <td>17</td>\n",
              "      <td>18</td>\n",
              "      <td>1</td>\n",
              "      <td>1</td>\n",
              "      <td>5</td>\n",
              "      <td>3</td>\n",
              "      <td>0</td>\n",
              "      <td>3</td>\n",
              "      <td>1</td>\n",
              "      <td>1</td>\n",
              "      <td>1</td>\n",
              "      <td>1</td>\n",
              "      <td>0</td>\n",
              "      <td>1</td>\n",
              "    </tr>\n",
              "    <tr>\n",
              "      <th>74405</th>\n",
              "      <td>a4837464e50075c4f8b5820dab011496ba1f04a985ab27...</td>\n",
              "      <td>2</td>\n",
              "      <td>-0.471365</td>\n",
              "      <td>4</td>\n",
              "      <td>4</td>\n",
              "      <td>271</td>\n",
              "      <td>0</td>\n",
              "      <td>0</td>\n",
              "      <td>1</td>\n",
              "      <td>1</td>\n",
              "      <td>0</td>\n",
              "      <td>0</td>\n",
              "      <td>8</td>\n",
              "      <td>9</td>\n",
              "      <td>2</td>\n",
              "      <td>-0.521242</td>\n",
              "      <td>1</td>\n",
              "      <td>0</td>\n",
              "      <td>1</td>\n",
              "      <td>3</td>\n",
              "      <td>3</td>\n",
              "      <td>3</td>\n",
              "      <td>2</td>\n",
              "      <td>1</td>\n",
              "      <td>11</td>\n",
              "      <td>1</td>\n",
              "      <td>1</td>\n",
              "      <td>5</td>\n",
              "      <td>3</td>\n",
              "      <td>0</td>\n",
              "      <td>2</td>\n",
              "      <td>1</td>\n",
              "      <td>1</td>\n",
              "      <td>0</td>\n",
              "      <td>0</td>\n",
              "      <td>0</td>\n",
              "      <td>1</td>\n",
              "    </tr>\n",
              "    <tr>\n",
              "      <th>83155</th>\n",
              "      <td>a4837464e50075c4f8b5820dab011496ba1f04a985ab27...</td>\n",
              "      <td>0</td>\n",
              "      <td>-0.083509</td>\n",
              "      <td>6</td>\n",
              "      <td>6</td>\n",
              "      <td>5</td>\n",
              "      <td>0</td>\n",
              "      <td>0</td>\n",
              "      <td>1</td>\n",
              "      <td>1</td>\n",
              "      <td>0</td>\n",
              "      <td>1</td>\n",
              "      <td>10</td>\n",
              "      <td>9</td>\n",
              "      <td>3</td>\n",
              "      <td>0.319156</td>\n",
              "      <td>1</td>\n",
              "      <td>5</td>\n",
              "      <td>1</td>\n",
              "      <td>4</td>\n",
              "      <td>2</td>\n",
              "      <td>2</td>\n",
              "      <td>1</td>\n",
              "      <td>16</td>\n",
              "      <td>18</td>\n",
              "      <td>1</td>\n",
              "      <td>1</td>\n",
              "      <td>12</td>\n",
              "      <td>3</td>\n",
              "      <td>0</td>\n",
              "      <td>2</td>\n",
              "      <td>1</td>\n",
              "      <td>1</td>\n",
              "      <td>1</td>\n",
              "      <td>1</td>\n",
              "      <td>0</td>\n",
              "      <td>1</td>\n",
              "    </tr>\n",
              "    <tr>\n",
              "      <th>90262</th>\n",
              "      <td>a4837464e50075c4f8b5820dab011496ba1f04a985ab27...</td>\n",
              "      <td>6</td>\n",
              "      <td>-0.471365</td>\n",
              "      <td>5</td>\n",
              "      <td>5</td>\n",
              "      <td>275</td>\n",
              "      <td>0</td>\n",
              "      <td>0</td>\n",
              "      <td>1</td>\n",
              "      <td>1</td>\n",
              "      <td>0</td>\n",
              "      <td>0</td>\n",
              "      <td>18</td>\n",
              "      <td>9</td>\n",
              "      <td>3</td>\n",
              "      <td>-0.101043</td>\n",
              "      <td>1</td>\n",
              "      <td>9</td>\n",
              "      <td>1</td>\n",
              "      <td>1</td>\n",
              "      <td>3</td>\n",
              "      <td>3</td>\n",
              "      <td>2</td>\n",
              "      <td>16</td>\n",
              "      <td>10</td>\n",
              "      <td>1</td>\n",
              "      <td>1</td>\n",
              "      <td>5</td>\n",
              "      <td>3</td>\n",
              "      <td>0</td>\n",
              "      <td>2</td>\n",
              "      <td>1</td>\n",
              "      <td>1</td>\n",
              "      <td>1</td>\n",
              "      <td>1</td>\n",
              "      <td>0</td>\n",
              "      <td>1</td>\n",
              "    </tr>\n",
              "    <tr>\n",
              "      <th>108372</th>\n",
              "      <td>a4837464e50075c4f8b5820dab011496ba1f04a985ab27...</td>\n",
              "      <td>0</td>\n",
              "      <td>7.363342</td>\n",
              "      <td>9</td>\n",
              "      <td>11</td>\n",
              "      <td>91</td>\n",
              "      <td>0</td>\n",
              "      <td>0</td>\n",
              "      <td>2</td>\n",
              "      <td>1</td>\n",
              "      <td>0</td>\n",
              "      <td>1</td>\n",
              "      <td>19</td>\n",
              "      <td>37</td>\n",
              "      <td>5</td>\n",
              "      <td>6.482078</td>\n",
              "      <td>2</td>\n",
              "      <td>63</td>\n",
              "      <td>1</td>\n",
              "      <td>3</td>\n",
              "      <td>3</td>\n",
              "      <td>3</td>\n",
              "      <td>1</td>\n",
              "      <td>268</td>\n",
              "      <td>5</td>\n",
              "      <td>2</td>\n",
              "      <td>5</td>\n",
              "      <td>5</td>\n",
              "      <td>3</td>\n",
              "      <td>0</td>\n",
              "      <td>3</td>\n",
              "      <td>1</td>\n",
              "      <td>1</td>\n",
              "      <td>0</td>\n",
              "      <td>1</td>\n",
              "      <td>0</td>\n",
              "      <td>1</td>\n",
              "    </tr>\n",
              "    <tr>\n",
              "      <th>125258</th>\n",
              "      <td>a4837464e50075c4f8b5820dab011496ba1f04a985ab27...</td>\n",
              "      <td>0</td>\n",
              "      <td>2.321204</td>\n",
              "      <td>9</td>\n",
              "      <td>9</td>\n",
              "      <td>95</td>\n",
              "      <td>0</td>\n",
              "      <td>6</td>\n",
              "      <td>2</td>\n",
              "      <td>0</td>\n",
              "      <td>0</td>\n",
              "      <td>1</td>\n",
              "      <td>16</td>\n",
              "      <td>73</td>\n",
              "      <td>5</td>\n",
              "      <td>1.999953</td>\n",
              "      <td>2</td>\n",
              "      <td>4</td>\n",
              "      <td>1</td>\n",
              "      <td>2</td>\n",
              "      <td>3</td>\n",
              "      <td>6</td>\n",
              "      <td>1</td>\n",
              "      <td>114</td>\n",
              "      <td>1</td>\n",
              "      <td>1</td>\n",
              "      <td>38</td>\n",
              "      <td>5</td>\n",
              "      <td>3</td>\n",
              "      <td>1</td>\n",
              "      <td>3</td>\n",
              "      <td>1</td>\n",
              "      <td>1</td>\n",
              "      <td>0</td>\n",
              "      <td>1</td>\n",
              "      <td>0</td>\n",
              "      <td>1</td>\n",
              "    </tr>\n",
              "    <tr>\n",
              "      <th>146256</th>\n",
              "      <td>a4837464e50075c4f8b5820dab011496ba1f04a985ab27...</td>\n",
              "      <td>0</td>\n",
              "      <td>-0.083509</td>\n",
              "      <td>6</td>\n",
              "      <td>6</td>\n",
              "      <td>12</td>\n",
              "      <td>0</td>\n",
              "      <td>0</td>\n",
              "      <td>1</td>\n",
              "      <td>1</td>\n",
              "      <td>0</td>\n",
              "      <td>0</td>\n",
              "      <td>15</td>\n",
              "      <td>19</td>\n",
              "      <td>2</td>\n",
              "      <td>0.319156</td>\n",
              "      <td>1</td>\n",
              "      <td>2</td>\n",
              "      <td>1</td>\n",
              "      <td>2</td>\n",
              "      <td>2</td>\n",
              "      <td>4</td>\n",
              "      <td>1</td>\n",
              "      <td>1</td>\n",
              "      <td>21</td>\n",
              "      <td>1</td>\n",
              "      <td>1</td>\n",
              "      <td>12</td>\n",
              "      <td>3</td>\n",
              "      <td>0</td>\n",
              "      <td>2</td>\n",
              "      <td>1</td>\n",
              "      <td>1</td>\n",
              "      <td>1</td>\n",
              "      <td>0</td>\n",
              "      <td>1</td>\n",
              "      <td>1</td>\n",
              "    </tr>\n",
              "    <tr>\n",
              "      <th>163864</th>\n",
              "      <td>a4837464e50075c4f8b5820dab011496ba1f04a985ab27...</td>\n",
              "      <td>0</td>\n",
              "      <td>4.570773</td>\n",
              "      <td>8</td>\n",
              "      <td>9</td>\n",
              "      <td>69</td>\n",
              "      <td>0</td>\n",
              "      <td>0</td>\n",
              "      <td>2</td>\n",
              "      <td>1</td>\n",
              "      <td>0</td>\n",
              "      <td>1</td>\n",
              "      <td>15</td>\n",
              "      <td>37</td>\n",
              "      <td>5</td>\n",
              "      <td>9.003273</td>\n",
              "      <td>1</td>\n",
              "      <td>21</td>\n",
              "      <td>1</td>\n",
              "      <td>2</td>\n",
              "      <td>3</td>\n",
              "      <td>2</td>\n",
              "      <td>1</td>\n",
              "      <td>268</td>\n",
              "      <td>4</td>\n",
              "      <td>1</td>\n",
              "      <td>5</td>\n",
              "      <td>5</td>\n",
              "      <td>3</td>\n",
              "      <td>0</td>\n",
              "      <td>3</td>\n",
              "      <td>1</td>\n",
              "      <td>1</td>\n",
              "      <td>0</td>\n",
              "      <td>0</td>\n",
              "      <td>0</td>\n",
              "      <td>1</td>\n",
              "    </tr>\n",
              "    <tr>\n",
              "      <th>164565</th>\n",
              "      <td>a4837464e50075c4f8b5820dab011496ba1f04a985ab27...</td>\n",
              "      <td>2</td>\n",
              "      <td>4.570773</td>\n",
              "      <td>8</td>\n",
              "      <td>9</td>\n",
              "      <td>68</td>\n",
              "      <td>0</td>\n",
              "      <td>0</td>\n",
              "      <td>2</td>\n",
              "      <td>1</td>\n",
              "      <td>0</td>\n",
              "      <td>1</td>\n",
              "      <td>15</td>\n",
              "      <td>37</td>\n",
              "      <td>5</td>\n",
              "      <td>9.003273</td>\n",
              "      <td>1</td>\n",
              "      <td>21</td>\n",
              "      <td>1</td>\n",
              "      <td>2</td>\n",
              "      <td>3</td>\n",
              "      <td>2</td>\n",
              "      <td>1</td>\n",
              "      <td>268</td>\n",
              "      <td>4</td>\n",
              "      <td>1</td>\n",
              "      <td>5</td>\n",
              "      <td>5</td>\n",
              "      <td>3</td>\n",
              "      <td>0</td>\n",
              "      <td>3</td>\n",
              "      <td>1</td>\n",
              "      <td>1</td>\n",
              "      <td>0</td>\n",
              "      <td>0</td>\n",
              "      <td>0</td>\n",
              "      <td>1</td>\n",
              "    </tr>\n",
              "    <tr>\n",
              "      <th>189519</th>\n",
              "      <td>a4837464e50075c4f8b5820dab011496ba1f04a985ab27...</td>\n",
              "      <td>0</td>\n",
              "      <td>2.786632</td>\n",
              "      <td>8</td>\n",
              "      <td>11</td>\n",
              "      <td>70</td>\n",
              "      <td>0</td>\n",
              "      <td>2</td>\n",
              "      <td>2</td>\n",
              "      <td>1</td>\n",
              "      <td>0</td>\n",
              "      <td>1</td>\n",
              "      <td>15</td>\n",
              "      <td>37</td>\n",
              "      <td>201</td>\n",
              "      <td>5.501613</td>\n",
              "      <td>1</td>\n",
              "      <td>95</td>\n",
              "      <td>2</td>\n",
              "      <td>2</td>\n",
              "      <td>3</td>\n",
              "      <td>6</td>\n",
              "      <td>1</td>\n",
              "      <td>17</td>\n",
              "      <td>18</td>\n",
              "      <td>1</td>\n",
              "      <td>1</td>\n",
              "      <td>5</td>\n",
              "      <td>3</td>\n",
              "      <td>0</td>\n",
              "      <td>3</td>\n",
              "      <td>1</td>\n",
              "      <td>1</td>\n",
              "      <td>1</td>\n",
              "      <td>1</td>\n",
              "      <td>0</td>\n",
              "      <td>1</td>\n",
              "    </tr>\n",
              "  </tbody>\n",
              "</table>\n",
              "</div>"
            ],
            "text/plain": [
              "                                                    userid  ...  goal1\n",
              "orderid                                                     ...       \n",
              "63657    a4837464e50075c4f8b5820dab011496ba1f04a985ab27...  ...      1\n",
              "74405    a4837464e50075c4f8b5820dab011496ba1f04a985ab27...  ...      1\n",
              "83155    a4837464e50075c4f8b5820dab011496ba1f04a985ab27...  ...      1\n",
              "90262    a4837464e50075c4f8b5820dab011496ba1f04a985ab27...  ...      1\n",
              "108372   a4837464e50075c4f8b5820dab011496ba1f04a985ab27...  ...      1\n",
              "125258   a4837464e50075c4f8b5820dab011496ba1f04a985ab27...  ...      1\n",
              "146256   a4837464e50075c4f8b5820dab011496ba1f04a985ab27...  ...      1\n",
              "163864   a4837464e50075c4f8b5820dab011496ba1f04a985ab27...  ...      1\n",
              "164565   a4837464e50075c4f8b5820dab011496ba1f04a985ab27...  ...      1\n",
              "189519   a4837464e50075c4f8b5820dab011496ba1f04a985ab27...  ...      1\n",
              "\n",
              "[10 rows x 37 columns]"
            ]
          },
          "metadata": {
            "tags": []
          },
          "execution_count": 49
        }
      ]
    },
    {
      "cell_type": "markdown",
      "metadata": {
        "id": "LvJg-fjqkdO7",
        "colab_type": "text"
      },
      "source": [
        "# No EDA"
      ]
    },
    {
      "cell_type": "code",
      "metadata": {
        "id": "xU1rQhcXKNu9",
        "colab_type": "code",
        "colab": {}
      },
      "source": [
        "train_df['field1'] = np.e ** train_df['field1'] \n",
        "train_df['field14'] = np.e ** train_df['field14']\n",
        "\n",
        "test_df['field1'] = np.e ** test_df['field1'] \n",
        "test_df['field14'] = np.e ** test_df['field14']"
      ],
      "execution_count": null,
      "outputs": []
    },
    {
      "cell_type": "code",
      "metadata": {
        "id": "8iBK32trIJP1",
        "colab_type": "code",
        "colab": {}
      },
      "source": [
        "train_df['field1_field14_ratio'] = train_df['field1'] / train_df['field14']\n",
        "test_df['field1_field14_ratio'] = test_df['field1'] / test_df['field14']"
      ],
      "execution_count": null,
      "outputs": []
    },
    {
      "cell_type": "code",
      "metadata": {
        "id": "inqJrQDw4daF",
        "colab_type": "code",
        "colab": {}
      },
      "source": [
        "double_features = []\n",
        "\n",
        "for feature in double_features:\n",
        "\n",
        "    f1, f2 = feature.split('__')\n",
        "    train_df[feature] = train_df[f1].astype(str) + '_' + train_df[f2].astype(str)\n",
        "    test_df[feature] = test_df[f1].astype(str) + '_' + test_df[f2].astype(str)\n",
        "\n",
        "    le = LabelEncoder()\n",
        "    le.fit(list(train_df[feature].astype(str).values) + list(test_df[feature].astype(str).values))\n",
        "    train_df[feature] = le.transform(list(train_df[feature].astype(str).values))\n",
        "    test_df[feature] = le.transform(list(test_df[feature].astype(str).values))"
      ],
      "execution_count": null,
      "outputs": []
    },
    {
      "cell_type": "code",
      "metadata": {
        "id": "Gx3CJA_ErgKR",
        "colab_type": "code",
        "colab": {}
      },
      "source": [
        "categorical_features = ['field2', 'field3', 'field11', 'field15', 'field18', 'field19', 'field20', 'field23', 'field24', 'field25', 'field27', 'field28', 'field29', 'userid', 'field9']\n",
        "categorical_features += ['field5', 'field7', 'field8', 'field10', 'field21', 'indicator_goal21', 'indicator_goal22', 'indicator_goal23', 'indicator_goal24', 'indicator_goal25']\n",
        "categorical_features += double_features"
      ],
      "execution_count": null,
      "outputs": []
    },
    {
      "cell_type": "code",
      "metadata": {
        "id": "CwlLcLSM9ycX",
        "colab_type": "code",
        "colab": {
          "base_uri": "https://localhost:8080/",
          "height": 34
        },
        "outputId": "c80d15a9-8cd4-4d46-b5fc-2b040ca43c23"
      },
      "source": [
        "non_binary_features = []\n",
        "\n",
        "for col in [x for x in train_df.columns if not x in categorical_features]:\n",
        "    if train_df[col].nunique() > 2:\n",
        "        non_binary_features.append(col)\n",
        "\n",
        "non_binary_features.remove('field4')\n",
        "print(non_binary_features)"
      ],
      "execution_count": null,
      "outputs": [
        {
          "output_type": "stream",
          "text": [
            "['field0', 'field1', 'field6', 'field12', 'field13', 'field14', 'field16', 'field17', 'field22', 'field26', 'field1_field14_ratio']\n"
          ],
          "name": "stdout"
        }
      ]
    },
    {
      "cell_type": "code",
      "metadata": {
        "id": "67U_MvcdrYQQ",
        "colab_type": "code",
        "colab": {}
      },
      "source": [
        "log_cols = ['field0', 'field1', 'field6', 'field12', 'field13', 'field14', 'field16', 'field17', 'field22', 'field1_field14_ratio']\n",
        "\n",
        "for col in log_cols:\n",
        "    train_df[col] = np.log(train_df[col] + 1)\n",
        "    test_df[col] = np.log(test_df[col] + 1)"
      ],
      "execution_count": null,
      "outputs": []
    },
    {
      "cell_type": "code",
      "metadata": {
        "id": "1NdPY_ZK9X3p",
        "colab_type": "code",
        "colab": {}
      },
      "source": [
        "train_df, test_df = uid_aggregation(train_df, test_df, non_binary_features, ['userid'], ['median', 'std'])"
      ],
      "execution_count": null,
      "outputs": []
    },
    {
      "cell_type": "code",
      "metadata": {
        "id": "6jUi9m0px5lu",
        "colab_type": "code",
        "colab": {
          "base_uri": "https://localhost:8080/",
          "height": 66,
          "referenced_widgets": [
            "eda1c4295c814e04bdf7b5ab75a5c4ad",
            "a4829b707b0b4767a4de8b9f4be5b3bc",
            "50fcc716212441dfac410099ffeb9cc9",
            "b884aa11fab1417e9366add4e96d68aa",
            "24bf85db098a4d52a8c14b9ac554d905",
            "772142cfe7b846938d44dcc0c2f41fa0",
            "e799699512ce441f83961bc53a0c69b7",
            "b1ad420e1aa543d396bb34354a979533"
          ]
        },
        "outputId": "98a2858b-841f-4eb6-b3bc-7988caae6b8d"
      },
      "source": [
        "for col in tqdm_notebook(train_df.columns):\n",
        "    if train_df[col].dtype == 'object':\n",
        "        le = LabelEncoder()\n",
        "        le.fit(list(train_df[col].astype(str).values) + list(test_df[col].astype(str).values))\n",
        "        train_df[col] = le.transform(list(train_df[col].astype(str).values))\n",
        "        test_df[col] = le.transform(list(test_df[col].astype(str).values))   "
      ],
      "execution_count": null,
      "outputs": [
        {
          "output_type": "display_data",
          "data": {
            "application/vnd.jupyter.widget-view+json": {
              "model_id": "eda1c4295c814e04bdf7b5ab75a5c4ad",
              "version_minor": 0,
              "version_major": 2
            },
            "text/plain": [
              "HBox(children=(IntProgress(value=0, max=61), HTML(value='')))"
            ]
          },
          "metadata": {
            "tags": []
          }
        },
        {
          "output_type": "stream",
          "text": [
            "\n"
          ],
          "name": "stdout"
        }
      ]
    },
    {
      "cell_type": "code",
      "metadata": {
        "id": "AI86ibhkvPUR",
        "colab_type": "code",
        "colab": {}
      },
      "source": [
        "X = train_df.drop(['goal1', 'field9'], axis=1)\n",
        "y = train_df['goal1']\n",
        "X_test = test_df.drop(['field9'], axis=1).copy()"
      ],
      "execution_count": null,
      "outputs": []
    },
    {
      "cell_type": "code",
      "metadata": {
        "id": "F73zQSGYyKKG",
        "colab_type": "code",
        "colab": {
          "base_uri": "https://localhost:8080/",
          "height": 34
        },
        "outputId": "7e248a7d-a993-466b-b757-4f20833fb366"
      },
      "source": [
        "X.shape, y.shape, X_test.shape"
      ],
      "execution_count": null,
      "outputs": [
        {
          "output_type": "execute_result",
          "data": {
            "text/plain": [
              "((196056, 59), (196056,), (455011, 59))"
            ]
          },
          "metadata": {
            "tags": []
          },
          "execution_count": 59
        }
      ]
    },
    {
      "cell_type": "markdown",
      "metadata": {
        "id": "gs-7RpsEBFhe",
        "colab_type": "text"
      },
      "source": [
        "# LGBM"
      ]
    },
    {
      "cell_type": "code",
      "metadata": {
        "id": "ERnol-wSyYu_",
        "colab_type": "code",
        "colab": {}
      },
      "source": [
        "params = {'num_leaves': 493,\n",
        "          'min_child_weight': 0.008023947837732857,\n",
        "          'feature_fraction': 0.5341568665265988,\n",
        "          'bagging_fraction': 0.32474760774990463,\n",
        "          'min_data_in_leaf': 33,\n",
        "          'objective': 'binary',\n",
        "          'max_depth': 8,\n",
        "          'learning_rate': 0.006883242363721497,\n",
        "          \"boosting_type\": \"gbdt\",\n",
        "          \"bagging_seed\": 11,\n",
        "          \"metric\": 'auc',\n",
        "          \"verbosity\": -1,\n",
        "          'reg_alpha': 1.7722447692966574,\n",
        "          'reg_lambda': 1.1987156815341724,\n",
        "          'random_state': 47,\n",
        "         }"
      ],
      "execution_count": null,
      "outputs": []
    },
    {
      "cell_type": "code",
      "metadata": {
        "id": "Mu9ERoOuv7CG",
        "colab_type": "code",
        "colab": {
          "base_uri": "https://localhost:8080/",
          "height": 714
        },
        "outputId": "01f4a55c-5f5b-4425-e03a-01345301b849"
      },
      "source": [
        "preds = np.zeros(len(X_test))\n",
        "oof = np.zeros(len(X))\n",
        "\n",
        "folds = KFold(n_splits=5, shuffle=True, random_state=47)\n",
        "\n",
        "feature_importances = pd.DataFrame()\n",
        "feature_importances['feature'] = X.columns\n",
        "\n",
        "training_start_time = time()\n",
        "for fold, (trn_idx, test_idx) in enumerate(folds.split(X, y)):\n",
        "    start_time = time()\n",
        "    print('Training on fold {}'.format(fold + 1))\n",
        "    \n",
        "    trn_data = lgb.Dataset(X.iloc[trn_idx], label=y.iloc[trn_idx])\n",
        "    val_data = lgb.Dataset(X.iloc[test_idx], label=y.iloc[test_idx])\n",
        "    \n",
        "    clf = lgb.train(params,\n",
        "                    trn_data,\n",
        "                    10000,\n",
        "                    valid_sets = [trn_data, val_data],\n",
        "                    verbose_eval=500,\n",
        "                    early_stopping_rounds=500)\n",
        "    \n",
        "    preds += clf.predict(X_test)\n",
        "    oof[test_idx] = clf.predict(X.iloc[test_idx])\n",
        "    feature_importances['fold_{}'.format(fold + 1)] = clf.feature_importance()\n",
        "    \n",
        "    print('Fold {} finished in {}'.format(fold + 1, str(datetime.timedelta(seconds=time() - start_time))))\n",
        "\n",
        "print('-' * 30)\n",
        "print('Training has finished.')\n",
        "print('Total training time is {}'.format(str(datetime.timedelta(seconds=time() - training_start_time))))\n",
        "print('OOF AUC:', roc_auc_score(y, oof))\n",
        "print('-' * 30)"
      ],
      "execution_count": null,
      "outputs": [
        {
          "output_type": "stream",
          "text": [
            "Training on fold 1\n",
            "Training until validation scores don't improve for 500 rounds.\n",
            "[500]\ttraining's auc: 0.887688\tvalid_1's auc: 0.691887\n",
            "[1000]\ttraining's auc: 0.929753\tvalid_1's auc: 0.697388\n",
            "[1500]\ttraining's auc: 0.949664\tvalid_1's auc: 0.697064\n",
            "Early stopping, best iteration is:\n",
            "[1068]\ttraining's auc: 0.933549\tvalid_1's auc: 0.697773\n",
            "Fold 1 finished in 0:02:34.362424\n",
            "Training on fold 2\n",
            "Training until validation scores don't improve for 500 rounds.\n",
            "[500]\ttraining's auc: 0.887096\tvalid_1's auc: 0.70797\n",
            "[1000]\ttraining's auc: 0.92652\tvalid_1's auc: 0.711085\n",
            "[1500]\ttraining's auc: 0.94924\tvalid_1's auc: 0.711003\n",
            "Early stopping, best iteration is:\n",
            "[1289]\ttraining's auc: 0.940718\tvalid_1's auc: 0.711582\n",
            "Fold 2 finished in 0:02:55.727558\n",
            "Training on fold 3\n",
            "Training until validation scores don't improve for 500 rounds.\n",
            "[500]\ttraining's auc: 0.888725\tvalid_1's auc: 0.705627\n",
            "Early stopping, best iteration is:\n",
            "[340]\ttraining's auc: 0.864734\tvalid_1's auc: 0.706557\n",
            "Fold 3 finished in 0:01:10.583348\n",
            "Training on fold 4\n",
            "Training until validation scores don't improve for 500 rounds.\n",
            "[500]\ttraining's auc: 0.885945\tvalid_1's auc: 0.729301\n",
            "[1000]\ttraining's auc: 0.926804\tvalid_1's auc: 0.730365\n",
            "Early stopping, best iteration is:\n",
            "[815]\ttraining's auc: 0.915993\tvalid_1's auc: 0.730556\n",
            "Fold 4 finished in 0:02:05.730059\n",
            "Training on fold 5\n",
            "Training until validation scores don't improve for 500 rounds.\n",
            "[500]\ttraining's auc: 0.886949\tvalid_1's auc: 0.716132\n",
            "[1000]\ttraining's auc: 0.926603\tvalid_1's auc: 0.716944\n",
            "Early stopping, best iteration is:\n",
            "[740]\ttraining's auc: 0.909791\tvalid_1's auc: 0.717663\n",
            "Fold 5 finished in 0:01:56.494549\n",
            "------------------------------\n",
            "Training has finished.\n",
            "Total training time is 0:10:42.921144\n",
            "OOF AUC: 0.7108299825212192\n",
            "------------------------------\n"
          ],
          "name": "stdout"
        }
      ]
    },
    {
      "cell_type": "markdown",
      "metadata": {
        "id": "gHTYu1_fdUSC",
        "colab_type": "text"
      },
      "source": [
        "#### test\n",
        "* defatult starter: 0.70027\n",
        "* ratio feature: 0.70037\n",
        "* loged features + median: 0.702"
      ]
    },
    {
      "cell_type": "markdown",
      "metadata": {
        "id": "rN_eDobI5UL7",
        "colab_type": "text"
      },
      "source": [
        "| OOF | LB | Desc |\n",
        "| --- | --- | --- |\n",
        "| 0.68365 | 0.6715850 | 2 folds starter |\n",
        "| 0.68763 | 0.673887 | 2 folds with shuffle |\n",
        "| 0.690581 | 0.6753480 |5 folds with shuffle | \n",
        "| 0.70964| 0.6878010 | user aggs |\n",
        "| 0.71213 | 0.688 | loged"
      ]
    },
    {
      "cell_type": "code",
      "metadata": {
        "id": "wjOFvt3CyMzk",
        "colab_type": "code",
        "colab": {
          "base_uri": "https://localhost:8080/",
          "height": 948
        },
        "outputId": "2885cd70-31e3-4dbb-e6db-2fa3620bbcad"
      },
      "source": [
        "feature_importances['average'] = feature_importances[['fold_{}'.format(fold + 1) for fold in range(folds.n_splits)]].mean(axis=1)\n",
        "feature_importances.to_csv('feature_importances.csv')\n",
        "\n",
        "plt.figure(figsize=(16, 16))\n",
        "sns.barplot(data=feature_importances.sort_values(by='average', ascending=False).head(50), x='average', y='feature');\n",
        "plt.title('50 TOP feature importance over {} folds average'.format(folds.n_splits));"
      ],
      "execution_count": null,
      "outputs": [
        {
          "output_type": "display_data",
          "data": {
            "image/png": "[encoded data removed]",
            "text/plain": [
              "<Figure size 1152x1152 with 1 Axes>"
            ]
          },
          "metadata": {
            "tags": []
          }
        }
      ]
    },
    {
      "cell_type": "code",
      "metadata": {
        "id": "qMD-Fn--2pxv",
        "colab_type": "code",
        "colab": {}
      },
      "source": [
        "sample_submission['proba'] = preds / folds.n_splits"
      ],
      "execution_count": null,
      "outputs": []
    },
    {
      "cell_type": "code",
      "metadata": {
        "id": "sA8tvDaW46eY",
        "colab_type": "code",
        "colab": {}
      },
      "source": [
        "sample_submission.to_csv('onetwotrip_loged_11_12.csv', index=False)"
      ],
      "execution_count": null,
      "outputs": []
    },
    {
      "cell_type": "markdown",
      "metadata": {
        "id": "aA1JS-BvNLa8",
        "colab_type": "text"
      },
      "source": [
        "# Catboost"
      ]
    },
    {
      "cell_type": "code",
      "metadata": {
        "id": "7I-GXZMrNUDc",
        "colab_type": "code",
        "colab": {
          "base_uri": "https://localhost:8080/",
          "height": 34
        },
        "outputId": "d1f53718-f1f0-4076-87ed-81da8a067f8c"
      },
      "source": [
        "categorical_features = ['userid']\n",
        "\n",
        "print(categorical_features)"
      ],
      "execution_count": null,
      "outputs": [
        {
          "output_type": "stream",
          "text": [
            "['userid']\n"
          ],
          "name": "stdout"
        }
      ]
    },
    {
      "cell_type": "code",
      "metadata": {
        "id": "HJ7gAdHVN1hn",
        "colab_type": "code",
        "colab": {
          "base_uri": "https://localhost:8080/",
          "height": 340
        },
        "outputId": "eb0067f3-f381-4131-ee11-b19fbe990d22"
      },
      "source": [
        "!pip install catboost"
      ],
      "execution_count": null,
      "outputs": [
        {
          "output_type": "stream",
          "text": [
            "Collecting catboost\n",
            "\u001b[?25l  Downloading https://files.pythonhosted.org/packages/bf/8f/8b75806399bd4eb3125cb6aa0bad73e279648770e7bb4dee441b24acb959/catboost-0.19.1-cp36-none-manylinux1_x86_64.whl (63.0MB)\n",
            "\u001b[K     |████████████████████████████████| 63.0MB 121kB/s \n",
            "\u001b[?25hRequirement already satisfied: six in /usr/local/lib/python3.6/dist-packages (from catboost) (1.12.0)\n",
            "Requirement already satisfied: plotly in /usr/local/lib/python3.6/dist-packages (from catboost) (4.1.1)\n",
            "Requirement already satisfied: numpy>=1.16.0 in /usr/local/lib/python3.6/dist-packages (from catboost) (1.17.4)\n",
            "Requirement already satisfied: matplotlib in /usr/local/lib/python3.6/dist-packages (from catboost) (3.1.1)\n",
            "Requirement already satisfied: pandas>=0.24.0 in /usr/local/lib/python3.6/dist-packages (from catboost) (0.25.3)\n",
            "Requirement already satisfied: scipy in /usr/local/lib/python3.6/dist-packages (from catboost) (1.3.2)\n",
            "Requirement already satisfied: graphviz in /usr/local/lib/python3.6/dist-packages (from catboost) (0.10.1)\n",
            "Requirement already satisfied: retrying>=1.3.3 in /usr/local/lib/python3.6/dist-packages (from plotly->catboost) (1.3.3)\n",
            "Requirement already satisfied: kiwisolver>=1.0.1 in /usr/local/lib/python3.6/dist-packages (from matplotlib->catboost) (1.1.0)\n",
            "Requirement already satisfied: python-dateutil>=2.1 in /usr/local/lib/python3.6/dist-packages (from matplotlib->catboost) (2.6.1)\n",
            "Requirement already satisfied: cycler>=0.10 in /usr/local/lib/python3.6/dist-packages (from matplotlib->catboost) (0.10.0)\n",
            "Requirement already satisfied: pyparsing!=2.0.4,!=2.1.2,!=2.1.6,>=2.0.1 in /usr/local/lib/python3.6/dist-packages (from matplotlib->catboost) (2.4.5)\n",
            "Requirement already satisfied: pytz>=2017.2 in /usr/local/lib/python3.6/dist-packages (from pandas>=0.24.0->catboost) (2018.9)\n",
            "Requirement already satisfied: setuptools in /usr/local/lib/python3.6/dist-packages (from kiwisolver>=1.0.1->matplotlib->catboost) (41.6.0)\n",
            "Installing collected packages: catboost\n",
            "Successfully installed catboost-0.19.1\n"
          ],
          "name": "stdout"
        }
      ]
    },
    {
      "cell_type": "code",
      "metadata": {
        "id": "zJLHXpa8OEji",
        "colab_type": "code",
        "colab": {}
      },
      "source": [
        "from catboost import CatBoostClassifier\n",
        "\n",
        "cat_params = {\n",
        "                'n_estimators':5000,\n",
        "                'learning_rate': 0.01,\n",
        "                'eval_metric':'AUC',\n",
        "                'loss_function':'Logloss',\n",
        "                'random_seed': 42,\n",
        "                'metric_period':500,\n",
        "                'od_wait':500,\n",
        "                'task_type':'GPU',\n",
        "                'depth': 8,\n",
        "                } "
      ],
      "execution_count": null,
      "outputs": []
    },
    {
      "cell_type": "code",
      "metadata": {
        "id": "ou8047F9NNPa",
        "colab_type": "code",
        "colab": {
          "base_uri": "https://localhost:8080/",
          "height": 1000
        },
        "outputId": "e578fcdb-b8d3-48f3-9701-da33112bf0b7"
      },
      "source": [
        "preds = np.zeros(len(X_test))\n",
        "oof = np.zeros(len(X))\n",
        "\n",
        "folds = KFold(n_splits=5, shuffle=True, random_state=47)\n",
        "\n",
        "feature_importances = pd.DataFrame()\n",
        "feature_importances['feature'] = X.columns\n",
        "\n",
        "training_start_time = time()\n",
        "for fold, (trn_idx, test_idx) in enumerate(folds.split(X, y)):\n",
        "    start_time = time()\n",
        "    print('Training on fold {}'.format(fold + 1))\n",
        "    \n",
        "    estimator = CatBoostClassifier(**cat_params)        \n",
        "    estimator.fit(\n",
        "            X.iloc[trn_idx,:],y[trn_idx],\n",
        "            eval_set=(X.iloc[test_idx,:], y[test_idx]),\n",
        "            cat_features=categorical_features,\n",
        "            use_best_model=True,\n",
        "            verbose=True)\n",
        "    \n",
        "    preds += estimator.predict_proba(X_test)[:,1]\n",
        "    oof[test_idx] = estimator.predict_proba(X.iloc[test_idx])[:,1]\n",
        "    feature_importances['fold_{}'.format(fold + 1)] = estimator.get_feature_importance()\n",
        "    \n",
        "    print('Fold {} finished in {}'.format(fold + 1, str(datetime.timedelta(seconds=time() - start_time))))\n",
        "\n",
        "print('-' * 30)\n",
        "print('Training has finished.')\n",
        "print('Total training time is {}'.format(str(datetime.timedelta(seconds=time() - training_start_time))))\n",
        "print('OOF AUC:', roc_auc_score(y, oof))\n",
        "print('-' * 30)"
      ],
      "execution_count": null,
      "outputs": [
        {
          "output_type": "stream",
          "text": [
            "Training on fold 1\n",
            "0:\tlearn: 0.5854073\ttest: 0.5570266\tbest: 0.5570266 (0)\ttotal: 52ms\tremaining: 4m 20s\n",
            "500:\tlearn: 0.7329913\ttest: 0.6879663\tbest: 0.6879804 (499)\ttotal: 21.6s\tremaining: 3m 13s\n",
            "1000:\tlearn: 0.7637309\ttest: 0.6945052\tbest: 0.6945052 (1000)\ttotal: 42.8s\tremaining: 2m 51s\n",
            "1500:\tlearn: 0.7893768\ttest: 0.6973618\tbest: 0.6974149 (1478)\ttotal: 1m 3s\tremaining: 2m 29s\n",
            "2000:\tlearn: 0.8104636\ttest: 0.6988011\tbest: 0.6988011 (2000)\ttotal: 1m 24s\tremaining: 2m 6s\n",
            "2500:\tlearn: 0.8289191\ttest: 0.6993774\tbest: 0.6994533 (2283)\ttotal: 1m 45s\tremaining: 1m 45s\n",
            "3000:\tlearn: 0.8455370\ttest: 0.6997496\tbest: 0.6999774 (2976)\ttotal: 2m 5s\tremaining: 1m 23s\n",
            "bestTest = 0.6999773681\n",
            "bestIteration = 2976\n",
            "Shrink model to first 2977 iterations.\n",
            "Fold 1 finished in 0:03:44.078461\n",
            "Training on fold 2\n",
            "0:\tlearn: 0.6068378\ttest: 0.6019305\tbest: 0.6019305 (0)\ttotal: 46.7ms\tremaining: 3m 53s\n",
            "500:\tlearn: 0.7280057\ttest: 0.6953963\tbest: 0.6954778 (495)\ttotal: 21.5s\tremaining: 3m 13s\n",
            "1000:\tlearn: 0.7599003\ttest: 0.7051546\tbest: 0.7051546 (1000)\ttotal: 42.9s\tremaining: 2m 51s\n",
            "1500:\tlearn: 0.7845891\ttest: 0.7093022\tbest: 0.7093022 (1500)\ttotal: 1m 4s\tremaining: 2m 30s\n",
            "2000:\tlearn: 0.8067576\ttest: 0.7111391\tbest: 0.7111865 (1995)\ttotal: 1m 25s\tremaining: 2m 8s\n",
            "2500:\tlearn: 0.8254418\ttest: 0.7121674\tbest: 0.7121801 (2487)\ttotal: 1m 47s\tremaining: 1m 47s\n",
            "3000:\tlearn: 0.8417940\ttest: 0.7118973\tbest: 0.7123359 (2616)\ttotal: 2m 9s\tremaining: 1m 25s\n",
            "bestTest = 0.7123359144\n",
            "bestIteration = 2616\n",
            "Shrink model to first 2617 iterations.\n",
            "Fold 2 finished in 0:02:39.019109\n",
            "Training on fold 3\n",
            "0:\tlearn: 0.6138069\ttest: 0.6079649\tbest: 0.6079649 (0)\ttotal: 45.5ms\tremaining: 3m 47s\n",
            "500:\tlearn: 0.7326706\ttest: 0.7001643\tbest: 0.7001678 (499)\ttotal: 21.9s\tremaining: 3m 16s\n",
            "1000:\tlearn: 0.7622840\ttest: 0.7056586\tbest: 0.7056803 (992)\ttotal: 43.8s\tremaining: 2m 55s\n",
            "1500:\tlearn: 0.7867527\ttest: 0.7085370\tbest: 0.7085956 (1494)\ttotal: 1m 5s\tremaining: 2m 31s\n",
            "2000:\tlearn: 0.8079244\ttest: 0.7087082\tbest: 0.7089556 (1885)\ttotal: 1m 25s\tremaining: 2m 8s\n",
            "bestTest = 0.7089556158\n",
            "bestIteration = 1885\n",
            "Shrink model to first 1886 iterations.\n",
            "Fold 3 finished in 0:02:03.767063\n",
            "Training on fold 4\n",
            "0:\tlearn: 0.6105175\ttest: 0.6242101\tbest: 0.6242101 (0)\ttotal: 50.3ms\tremaining: 4m 11s\n",
            "500:\tlearn: 0.7273743\ttest: 0.7227100\tbest: 0.7227209 (497)\ttotal: 20.8s\tremaining: 3m 6s\n",
            "1000:\tlearn: 0.7563205\ttest: 0.7297277\tbest: 0.7297324 (991)\ttotal: 41.7s\tremaining: 2m 46s\n",
            "1500:\tlearn: 0.7826660\ttest: 0.7324964\tbest: 0.7325706 (1498)\ttotal: 1m 2s\tremaining: 2m 25s\n",
            "2000:\tlearn: 0.8041872\ttest: 0.7342182\tbest: 0.7343258 (1896)\ttotal: 1m 23s\tremaining: 2m 4s\n",
            "bestTest = 0.7343258262\n",
            "bestIteration = 1896\n",
            "Shrink model to first 1897 iterations.\n",
            "Fold 4 finished in 0:02:00.465549\n",
            "Training on fold 5\n",
            "0:\tlearn: 0.6151152\ttest: 0.6069362\tbest: 0.6069362 (0)\ttotal: 47ms\tremaining: 3m 54s\n",
            "500:\tlearn: 0.7304680\ttest: 0.7076141\tbest: 0.7076648 (496)\ttotal: 20.9s\tremaining: 3m 7s\n",
            "1000:\tlearn: 0.7599213\ttest: 0.7121485\tbest: 0.7122339 (995)\ttotal: 42.1s\tremaining: 2m 48s\n",
            "1500:\tlearn: 0.7860849\ttest: 0.7145084\tbest: 0.7145758 (1490)\ttotal: 1m 3s\tremaining: 2m 28s\n",
            "2000:\tlearn: 0.8072841\ttest: 0.7152680\tbest: 0.7155564 (1950)\ttotal: 1m 25s\tremaining: 2m 7s\n",
            "bestTest = 0.7155563831\n",
            "bestIteration = 1950\n",
            "Shrink model to first 1951 iterations.\n",
            "Fold 5 finished in 0:02:07.159031\n",
            "------------------------------\n",
            "Training has finished.\n",
            "Total training time is 0:12:34.511205\n",
            "OOF AUC: 0.7135848360297207\n",
            "------------------------------\n"
          ],
          "name": "stdout"
        }
      ]
    },
    {
      "cell_type": "code",
      "metadata": {
        "id": "yIpvaiB0UUhf",
        "colab_type": "code",
        "colab": {
          "base_uri": "https://localhost:8080/",
          "height": 948
        },
        "outputId": "41a0e01b-221d-4a0d-f860-caf154144dc5"
      },
      "source": [
        "feature_importances['average'] = feature_importances[['fold_{}'.format(fold + 1) for fold in range(folds.n_splits)]].mean(axis=1)\n",
        "feature_importances.to_csv('feature_importances.csv')\n",
        "\n",
        "plt.figure(figsize=(16, 16))\n",
        "sns.barplot(data=feature_importances.sort_values(by='average', ascending=False).head(50), x='average', y='feature');\n",
        "plt.title('50 TOP feature importance over {} folds average'.format(folds.n_splits));"
      ],
      "execution_count": null,
      "outputs": [
        {
          "output_type": "display_data",
          "data": {
            "image/png": "[encoded data removed]",
            "text/plain": [
              "<Figure size 1152x1152 with 1 Axes>"
            ]
          },
          "metadata": {
            "tags": []
          }
        }
      ]
    },
    {
      "cell_type": "code",
      "metadata": {
        "id": "9f1pq2qFUUaE",
        "colab_type": "code",
        "colab": {}
      },
      "source": [
        "sample_submission['proba'] = preds / folds.n_splits"
      ],
      "execution_count": null,
      "outputs": []
    },
    {
      "cell_type": "code",
      "metadata": {
        "id": "CS0xdWU5Uawl",
        "colab_type": "code",
        "colab": {}
      },
      "source": [
        "sample_submission.to_csv('catboost_userid_cat.csv', index=False)"
      ],
      "execution_count": null,
      "outputs": []
    },
    {
      "cell_type": "markdown",
      "metadata": {
        "id": "09rr4ZzFUnwf",
        "colab_type": "text"
      },
      "source": [
        "# Blend"
      ]
    },
    {
      "cell_type": "code",
      "metadata": {
        "id": "IrSGOW5eUgAC",
        "colab_type": "code",
        "colab": {}
      },
      "source": [
        "sub1 = pd.read_csv('catboost_userid_cat.csv')\n",
        "sub2 = pd.read_csv('onetwotrip_loged.csv')"
      ],
      "execution_count": null,
      "outputs": []
    },
    {
      "cell_type": "code",
      "metadata": {
        "id": "gZsANIJgVfl5",
        "colab_type": "code",
        "colab": {}
      },
      "source": [
        "outs = [sub1['proba'], sub2['proba']]\n",
        "concat_sub = pd.concat(outs, axis=1)\n",
        "cols = list(map(lambda x: \"m\" + str(x), range(len(concat_sub.columns))))\n",
        "concat_sub.columns = cols"
      ],
      "execution_count": null,
      "outputs": []
    },
    {
      "cell_type": "code",
      "metadata": {
        "id": "nabA3o0DVKqh",
        "colab_type": "code",
        "colab": {
          "base_uri": "https://localhost:8080/",
          "height": 269
        },
        "outputId": "e8d46e64-7f65-4cc0-de8c-76f34a42a027"
      },
      "source": [
        "# check correlation\n",
        "corr = concat_sub.corr()\n",
        "mask = np.zeros_like(corr, dtype=np.bool)\n",
        "mask[np.triu_indices_from(mask)] = True\n",
        "\n",
        "# Set up the matplotlib figure\n",
        "f, ax = plt.subplots(figsize=(len(cols)+2, len(cols)+2))\n",
        "\n",
        "# Draw the heatmap with the mask and correct aspect ratio\n",
        "_ = sns.heatmap(corr,mask=mask,cmap='prism',center=0, linewidths=1,\n",
        "                annot=True,fmt='.4f', cbar_kws={\"shrink\":.2})"
      ],
      "execution_count": null,
      "outputs": [
        {
          "output_type": "display_data",
          "data": {
            "image/png": "[encoded data removed]",
            "text/plain": [
              "<Figure size 288x288 with 2 Axes>"
            ]
          },
          "metadata": {
            "tags": []
          }
        }
      ]
    },
    {
      "cell_type": "code",
      "metadata": {
        "id": "WGQqIt4oWHlD",
        "colab_type": "code",
        "colab": {}
      },
      "source": [
        "sample_submission['proba'] = 0.3 * sub1['proba'] + 0.7 * sub2['proba']\n",
        "sample_submission.to_csv('blend_lgbm_catboost_3_7.csv', index=False)"
      ],
      "execution_count": null,
      "outputs": []
    },
    {
      "cell_type": "code",
      "metadata": {
        "id": "eKZyuFKqWTyY",
        "colab_type": "code",
        "colab": {
          "base_uri": "https://localhost:8080/",
          "height": 204
        },
        "outputId": "65a976f2-ce6a-4e24-923d-7fafed6b176f"
      },
      "source": [
        "sample_submission.head()"
      ],
      "execution_count": null,
      "outputs": [
        {
          "output_type": "execute_result",
          "data": {
            "text/html": [
              "<div>\n",
              "<style scoped>\n",
              "    .dataframe tbody tr th:only-of-type {\n",
              "        vertical-align: middle;\n",
              "    }\n",
              "\n",
              "    .dataframe tbody tr th {\n",
              "        vertical-align: top;\n",
              "    }\n",
              "\n",
              "    .dataframe thead th {\n",
              "        text-align: right;\n",
              "    }\n",
              "</style>\n",
              "<table border=\"1\" class=\"dataframe\">\n",
              "  <thead>\n",
              "    <tr style=\"text-align: right;\">\n",
              "      <th></th>\n",
              "      <th>orderid</th>\n",
              "      <th>proba</th>\n",
              "    </tr>\n",
              "  </thead>\n",
              "  <tbody>\n",
              "    <tr>\n",
              "      <th>0</th>\n",
              "      <td>0</td>\n",
              "      <td>0.009017</td>\n",
              "    </tr>\n",
              "    <tr>\n",
              "      <th>1</th>\n",
              "      <td>1</td>\n",
              "      <td>0.006189</td>\n",
              "    </tr>\n",
              "    <tr>\n",
              "      <th>2</th>\n",
              "      <td>2</td>\n",
              "      <td>0.041454</td>\n",
              "    </tr>\n",
              "    <tr>\n",
              "      <th>3</th>\n",
              "      <td>3</td>\n",
              "      <td>0.023680</td>\n",
              "    </tr>\n",
              "    <tr>\n",
              "      <th>4</th>\n",
              "      <td>4</td>\n",
              "      <td>0.004766</td>\n",
              "    </tr>\n",
              "  </tbody>\n",
              "</table>\n",
              "</div>"
            ],
            "text/plain": [
              "   orderid     proba\n",
              "0        0  0.009017\n",
              "1        1  0.006189\n",
              "2        2  0.041454\n",
              "3        3  0.023680\n",
              "4        4  0.004766"
            ]
          },
          "metadata": {
            "tags": []
          },
          "execution_count": 41
        }
      ]
    },
    {
      "cell_type": "markdown",
      "metadata": {
        "id": "4-VIXIIVuza_",
        "colab_type": "text"
      },
      "source": [
        "#Feature Selection"
      ]
    },
    {
      "cell_type": "code",
      "metadata": {
        "id": "39xx25bFvdqg",
        "colab_type": "code",
        "colab": {}
      },
      "source": [
        "params = {'num_leaves': 493,\n",
        "          'min_child_weight': 0.008023947837732857,\n",
        "          'feature_fraction': 0.5341568665265988,\n",
        "          'bagging_fraction': 0.32474760774990463,\n",
        "          'min_data_in_leaf': 33,\n",
        "          'objective': 'binary',\n",
        "          'max_depth': 6,\n",
        "          'learning_rate': 0.006883242363721497,\n",
        "          \"boosting_type\": \"gbdt\",\n",
        "          \"bagging_seed\": 11,\n",
        "          \"metric\": 'auc',\n",
        "          \"verbosity\": -1,\n",
        "          'reg_alpha': 1.7722447692966574,\n",
        "          'reg_lambda': 1.1987156815341724,\n",
        "          'random_state': 47,\n",
        "          'n_estimators': 500,\n",
        "         }"
      ],
      "execution_count": null,
      "outputs": []
    },
    {
      "cell_type": "code",
      "metadata": {
        "id": "MeyujRidvoNM",
        "colab_type": "code",
        "colab": {
          "base_uri": "https://localhost:8080/",
          "height": 255
        },
        "outputId": "37e0d0e2-29d5-4fc4-fb1e-a39d7e720c43"
      },
      "source": [
        "!pip install mlxtend"
      ],
      "execution_count": null,
      "outputs": [
        {
          "output_type": "stream",
          "text": [
            "Requirement already satisfied: mlxtend in /usr/local/lib/python3.6/dist-packages (0.14.0)\n",
            "Requirement already satisfied: setuptools in /usr/local/lib/python3.6/dist-packages (from mlxtend) (41.6.0)\n",
            "Requirement already satisfied: pandas>=0.17.1 in /usr/local/lib/python3.6/dist-packages (from mlxtend) (0.25.3)\n",
            "Requirement already satisfied: matplotlib>=1.5.1 in /usr/local/lib/python3.6/dist-packages (from mlxtend) (3.1.1)\n",
            "Requirement already satisfied: scikit-learn>=0.18 in /usr/local/lib/python3.6/dist-packages (from mlxtend) (0.21.3)\n",
            "Requirement already satisfied: numpy>=1.10.4 in /usr/local/lib/python3.6/dist-packages (from mlxtend) (1.17.4)\n",
            "Requirement already satisfied: scipy>=0.17 in /usr/local/lib/python3.6/dist-packages (from mlxtend) (1.3.2)\n",
            "Requirement already satisfied: python-dateutil>=2.6.1 in /usr/local/lib/python3.6/dist-packages (from pandas>=0.17.1->mlxtend) (2.6.1)\n",
            "Requirement already satisfied: pytz>=2017.2 in /usr/local/lib/python3.6/dist-packages (from pandas>=0.17.1->mlxtend) (2018.9)\n",
            "Requirement already satisfied: pyparsing!=2.0.4,!=2.1.2,!=2.1.6,>=2.0.1 in /usr/local/lib/python3.6/dist-packages (from matplotlib>=1.5.1->mlxtend) (2.4.5)\n",
            "Requirement already satisfied: cycler>=0.10 in /usr/local/lib/python3.6/dist-packages (from matplotlib>=1.5.1->mlxtend) (0.10.0)\n",
            "Requirement already satisfied: kiwisolver>=1.0.1 in /usr/local/lib/python3.6/dist-packages (from matplotlib>=1.5.1->mlxtend) (1.1.0)\n",
            "Requirement already satisfied: joblib>=0.11 in /usr/local/lib/python3.6/dist-packages (from scikit-learn>=0.18->mlxtend) (0.14.0)\n",
            "Requirement already satisfied: six>=1.5 in /usr/local/lib/python3.6/dist-packages (from python-dateutil>=2.6.1->pandas>=0.17.1->mlxtend) (1.12.0)\n"
          ],
          "name": "stdout"
        }
      ]
    },
    {
      "cell_type": "code",
      "metadata": {
        "id": "BIVO3Fa-u0lV",
        "colab_type": "code",
        "colab": {
          "base_uri": "https://localhost:8080/",
          "height": 1000
        },
        "outputId": "b8dedfc4-a7ac-48d9-c5ed-f8ac89270c0f"
      },
      "source": [
        "from mlxtend.feature_selection import SequentialFeatureSelector\n",
        "\n",
        "train_X, val_X, train_y, val_y = train_test_split(X, y, random_state=1)\n",
        "folds = KFold(n_splits=2, shuffle=True, random_state=47)\n",
        "\n",
        "clf = LGBMClassifier(**params)\n",
        "\n",
        "selector = SequentialFeatureSelector(clf, scoring='roc_auc', verbose=2, \n",
        "                                     k_features=20, forward=True, n_jobs=-1, cv = folds)\n",
        "\n",
        "selector.fit(train_X, train_y)"
      ],
      "execution_count": null,
      "outputs": [
        {
          "output_type": "stream",
          "text": [
            "[Parallel(n_jobs=-1)]: Using backend LokyBackend with 2 concurrent workers.\n",
            "[Parallel(n_jobs=-1)]: Done  37 tasks      | elapsed:  2.3min\n",
            "[Parallel(n_jobs=-1)]: Done  61 out of  61 | elapsed:  4.5min finished\n",
            "\n",
            "[2019-11-26 13:07:08] Features: 1/20 -- score: 0.6242325341220375[Parallel(n_jobs=-1)]: Using backend LokyBackend with 2 concurrent workers.\n",
            "[Parallel(n_jobs=-1)]: Done  37 tasks      | elapsed:  2.7min\n",
            "[Parallel(n_jobs=-1)]: Done  60 out of  60 | elapsed:  4.5min finished\n",
            "\n",
            "[2019-11-26 13:11:39] Features: 2/20 -- score: 0.6653599073210192[Parallel(n_jobs=-1)]: Using backend LokyBackend with 2 concurrent workers.\n",
            "[Parallel(n_jobs=-1)]: Done  37 tasks      | elapsed:  3.1min\n",
            "[Parallel(n_jobs=-1)]: Done  59 out of  59 | elapsed:  5.1min finished\n",
            "\n",
            "[2019-11-26 13:16:47] Features: 3/20 -- score: 0.670525928209416[Parallel(n_jobs=-1)]: Using backend LokyBackend with 2 concurrent workers.\n",
            "[Parallel(n_jobs=-1)]: Done  37 tasks      | elapsed:  4.2min\n",
            "[Parallel(n_jobs=-1)]: Done  58 out of  58 | elapsed:  6.7min finished\n",
            "\n",
            "[2019-11-26 13:23:28] Features: 4/20 -- score: 0.6714841215986133[Parallel(n_jobs=-1)]: Using backend LokyBackend with 2 concurrent workers.\n",
            "[Parallel(n_jobs=-1)]: Done  37 tasks      | elapsed:  4.7min\n",
            "[Parallel(n_jobs=-1)]: Done  57 out of  57 | elapsed:  7.1min finished\n",
            "\n",
            "[2019-11-26 13:30:33] Features: 5/20 -- score: 0.6793509128708933[Parallel(n_jobs=-1)]: Using backend LokyBackend with 2 concurrent workers.\n",
            "[Parallel(n_jobs=-1)]: Done  37 tasks      | elapsed:  5.7min\n",
            "[Parallel(n_jobs=-1)]: Done  56 out of  56 | elapsed:  8.5min finished\n",
            "\n",
            "[2019-11-26 13:39:01] Features: 6/20 -- score: 0.6834654864780336[Parallel(n_jobs=-1)]: Using backend LokyBackend with 2 concurrent workers.\n",
            "[Parallel(n_jobs=-1)]: Done  37 tasks      | elapsed:  5.8min\n",
            "[Parallel(n_jobs=-1)]: Done  55 out of  55 | elapsed:  8.3min finished\n",
            "\n",
            "[2019-11-26 13:47:19] Features: 7/20 -- score: 0.6869904871252667[Parallel(n_jobs=-1)]: Using backend LokyBackend with 2 concurrent workers.\n",
            "[Parallel(n_jobs=-1)]: Done  37 tasks      | elapsed:  5.4min\n",
            "[Parallel(n_jobs=-1)]: Done  54 out of  54 | elapsed:  7.7min finished\n",
            "\n",
            "[2019-11-26 13:54:58] Features: 8/20 -- score: 0.6772188232606992[Parallel(n_jobs=-1)]: Using backend LokyBackend with 2 concurrent workers.\n",
            "[Parallel(n_jobs=-1)]: Done  37 tasks      | elapsed:  6.4min\n",
            "[Parallel(n_jobs=-1)]: Done  53 out of  53 | elapsed:  8.8min finished\n",
            "\n",
            "[2019-11-26 14:03:49] Features: 9/20 -- score: 0.6918715822365498[Parallel(n_jobs=-1)]: Using backend LokyBackend with 2 concurrent workers.\n",
            "[Parallel(n_jobs=-1)]: Done  37 tasks      | elapsed:  6.7min\n",
            "[Parallel(n_jobs=-1)]: Done  52 out of  52 | elapsed:  9.1min finished\n",
            "\n",
            "[2019-11-26 14:12:56] Features: 10/20 -- score: 0.6922555619934242[Parallel(n_jobs=-1)]: Using backend LokyBackend with 2 concurrent workers.\n",
            "[Parallel(n_jobs=-1)]: Done  37 tasks      | elapsed:  6.5min\n",
            "[Parallel(n_jobs=-1)]: Done  51 out of  51 | elapsed:  8.7min finished\n",
            "\n",
            "[2019-11-26 14:21:40] Features: 11/20 -- score: 0.6929920414717956[Parallel(n_jobs=-1)]: Using backend LokyBackend with 2 concurrent workers.\n",
            "[Parallel(n_jobs=-1)]: Done  37 tasks      | elapsed:  7.0min\n",
            "[Parallel(n_jobs=-1)]: Done  50 out of  50 | elapsed:  9.1min finished\n",
            "\n",
            "[2019-11-26 14:30:49] Features: 12/20 -- score: 0.6941472045420735[Parallel(n_jobs=-1)]: Using backend LokyBackend with 2 concurrent workers.\n",
            "[Parallel(n_jobs=-1)]: Done  37 tasks      | elapsed:  6.9min\n",
            "[Parallel(n_jobs=-1)]: Done  49 out of  49 | elapsed:  9.0min finished\n",
            "\n",
            "[2019-11-26 14:39:49] Features: 13/20 -- score: 0.6946051427352948[Parallel(n_jobs=-1)]: Using backend LokyBackend with 2 concurrent workers.\n",
            "[Parallel(n_jobs=-1)]: Done  37 tasks      | elapsed:  7.1min\n",
            "[Parallel(n_jobs=-1)]: Done  48 out of  48 | elapsed:  8.9min finished\n",
            "\n",
            "[2019-11-26 14:48:45] Features: 14/20 -- score: 0.6952626895606362[Parallel(n_jobs=-1)]: Using backend LokyBackend with 2 concurrent workers.\n",
            "[Parallel(n_jobs=-1)]: Done  37 tasks      | elapsed:  7.5min\n",
            "[Parallel(n_jobs=-1)]: Done  47 out of  47 | elapsed:  9.3min finished\n",
            "\n",
            "[2019-11-26 14:58:03] Features: 15/20 -- score: 0.6954452661128331[Parallel(n_jobs=-1)]: Using backend LokyBackend with 2 concurrent workers.\n",
            "[Parallel(n_jobs=-1)]: Done  37 tasks      | elapsed:  7.3min\n",
            "[Parallel(n_jobs=-1)]: Done  46 out of  46 | elapsed:  8.8min finished\n",
            "\n",
            "[2019-11-26 15:06:53] Features: 16/20 -- score: 0.6966159716502489[Parallel(n_jobs=-1)]: Using backend LokyBackend with 2 concurrent workers.\n",
            "[Parallel(n_jobs=-1)]: Done  37 tasks      | elapsed:  7.8min\n",
            "[Parallel(n_jobs=-1)]: Done  45 out of  45 | elapsed:  9.3min finished\n",
            "\n",
            "[2019-11-26 15:16:09] Features: 17/20 -- score: 0.6969802967155758[Parallel(n_jobs=-1)]: Using backend LokyBackend with 2 concurrent workers.\n",
            "[Parallel(n_jobs=-1)]: Done  37 tasks      | elapsed:  7.5min\n",
            "[Parallel(n_jobs=-1)]: Done  44 out of  44 | elapsed:  8.7min finished\n",
            "\n",
            "[2019-11-26 15:24:54] Features: 18/20 -- score: 0.6973513851028459[Parallel(n_jobs=-1)]: Using backend LokyBackend with 2 concurrent workers.\n",
            "[Parallel(n_jobs=-1)]: Done  37 tasks      | elapsed:  8.2min\n",
            "[Parallel(n_jobs=-1)]: Done  43 out of  43 | elapsed:  9.3min finished\n",
            "\n",
            "[2019-11-26 15:34:12] Features: 19/20 -- score: 0.697899331141394[Parallel(n_jobs=-1)]: Using backend LokyBackend with 2 concurrent workers.\n",
            "[Parallel(n_jobs=-1)]: Done  37 tasks      | elapsed:  8.1min\n",
            "[Parallel(n_jobs=-1)]: Done  42 out of  42 | elapsed:  9.0min finished\n",
            "\n",
            "[2019-11-26 15:43:10] Features: 20/20 -- score: 0.6982753134889048"
          ],
          "name": "stderr"
        },
        {
          "output_type": "execute_result",
          "data": {
            "text/plain": [
              "SequentialFeatureSelector(clone_estimator=True,\n",
              "                          cv=KFold(n_splits=2, random_state=47, shuffle=True),\n",
              "                          estimator=LGBMClassifier(bagging_fraction=0.32474760774990463,\n",
              "                                                   bagging_seed=11,\n",
              "                                                   boosting_type='gbdt',\n",
              "                                                   class_weight=None,\n",
              "                                                   colsample_bytree=1.0,\n",
              "                                                   feature_fraction=0.5341568665265988,\n",
              "                                                   importance_type='split',\n",
              "                                                   learning_rate=0.006883242363721497,\n",
              "                                                   max_depth=6, metric='...\n",
              "                                                   min_data_in_leaf=33,\n",
              "                                                   min_split_gain=0.0,\n",
              "                                                   n_estimators=500, n_jobs=-1,\n",
              "                                                   num_leaves=493,\n",
              "                                                   objective='binary',\n",
              "                                                   random_state=47,\n",
              "                                                   reg_alpha=1.7722447692966574,\n",
              "                                                   reg_lambda=1.1987156815341724,\n",
              "                                                   silent=True, subsample=1.0,\n",
              "                                                   subsample_for_bin=200000,\n",
              "                                                   subsample_freq=0,\n",
              "                                                   verbosity=-1),\n",
              "                          floating=False, forward=True, k_features=20,\n",
              "                          n_jobs=-1, pre_dispatch='2*n_jobs', scoring='roc_auc',\n",
              "                          verbose=2)"
            ]
          },
          "metadata": {
            "tags": []
          },
          "execution_count": 254
        }
      ]
    },
    {
      "cell_type": "code",
      "metadata": {
        "id": "fAdlCgClvq8t",
        "colab_type": "code",
        "colab": {
          "base_uri": "https://localhost:8080/",
          "height": 357
        },
        "outputId": "fa929474-c555-4cd0-aa4a-ff75ecbc7c00"
      },
      "source": [
        "selector.subsets_[20]['feature_names']"
      ],
      "execution_count": null,
      "outputs": [
        {
          "output_type": "execute_result",
          "data": {
            "text/plain": [
              "('field0',\n",
              " 'field2',\n",
              " 'field4',\n",
              " 'field6',\n",
              " 'field12',\n",
              " 'field14',\n",
              " 'field16',\n",
              " 'field18',\n",
              " 'field19',\n",
              " 'field25',\n",
              " 'indicator_goal24',\n",
              " 'userid_field0_mean',\n",
              " 'userid_field0_std',\n",
              " 'userid_field1_std',\n",
              " 'userid_field12_std',\n",
              " 'userid_field13_mean',\n",
              " 'userid_field13_std',\n",
              " 'userid_field14_mean',\n",
              " 'userid_field16_mean',\n",
              " 'userid_field26_mean')"
            ]
          },
          "metadata": {
            "tags": []
          },
          "execution_count": 257
        }
      ]
    },
    {
      "cell_type": "code",
      "metadata": {
        "id": "rX-TS013YdFJ",
        "colab_type": "code",
        "colab": {}
      },
      "source": [
        ""
      ],
      "execution_count": null,
      "outputs": []
    }
  ]
}